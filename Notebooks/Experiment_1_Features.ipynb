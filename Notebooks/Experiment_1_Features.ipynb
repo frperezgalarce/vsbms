{
 "cells": [
  {
   "cell_type": "markdown",
   "metadata": {},
   "source": [
    "\n",
    "<img src=\"https://lies.mat.uc.cl/wp-content/uploads/2017/09/logo-uc-lineal-azul.png\" width=\"200px\" alt=\"puc logo\">\n",
    "<hr>\n",
    "<h2 align=\"center\"> A Bayesian Approach to select machine learning models in astronomy  </h2>\n",
    "<hr>\n",
    "\n",
    "# Experiment 1: Cross-Validation can be easily deceived   \n",
    "\n",
    "The first hypothesis that we present is associated to indentify some practical situations in astronomy that could be generate biased datasets. (Explain sitiations when it could occur)\n",
    "\n",
    "In specific, we try to perturbe the dataset in order to decrease the classition performance. 4\n",
    "\n",
    "The main idea is based on hidding  important information to the classifier. Different ideas could be considered for that, for example it could be possible reduce the support for each feature and hidding the observation that having an extreme value (over a threshold) for each feature. It is also posible to hide observations more representative for the classes, these observation are very close to the learnt pattern by the classifier. \n",
    "\n",
    "In this experiment, we consider the second option, the especific produce is presente to continue. \n",
    "\n",
    "    - Fit a classifier with the complete dataset. \n",
    "    - Predict using this model (soft classification) over the complete dataset. \n",
    "    - Define $\\alpha$ (threshold the filter)\n",
    "    - Test set: select observations with probability over (1-$\\alpha$) or bellow $\\alpha$. \n",
    "    - Train set: select observations with probability bellow (1-$\\alpha$) and over $\\alpha$. "
   ]
  },
  {
   "cell_type": "code",
   "execution_count": 1,
   "metadata": {},
   "outputs": [
    {
     "name": "stderr",
     "output_type": "stream",
     "text": [
      "C:\\Users\\frper\\AppData\\Local\\Continuum\\Anaconda3\\lib\\site-packages\\sklearn\\ensemble\\weight_boosting.py:29: DeprecationWarning: numpy.core.umath_tests is an internal NumPy module and should not be imported. It will be removed in a future NumPy release.\n",
      "  from numpy.core.umath_tests import inner1d\n"
     ]
    },
    {
     "name": "stdout",
     "output_type": "stream",
     "text": [
      "Couldn't import dot_parser, loading of dot files will not be possible.\n"
     ]
    },
    {
     "name": "stderr",
     "output_type": "stream",
     "text": [
      "WARNING (theano.tensor.blas): Using NumPy C-API based implementation for BLAS functions.\n"
     ]
    }
   ],
   "source": [
    "%matplotlib inline\n",
    "import pandas as pd\n",
    "from sklearn.model_selection import train_test_split\n",
    "from sklearn.metrics import confusion_matrix, accuracy_score\n",
    "from sklearn.model_selection import LeaveOneOut\n",
    "from sklearn.ensemble import RandomForestClassifier\n",
    "import  sklearn.linear_model as linearModel\n",
    "from sklearn.decomposition import PCA\n",
    "from sklearn import preprocessing\n",
    "from sklearn.manifold import TSNE\n",
    "import numpy as np\n",
    "import seaborn \n",
    "import matplotlib.pyplot as plt\n",
    "from warnings import filterwarnings\n",
    "filterwarnings('ignore')\n",
    "import timeit\n",
    "import pymc3 as pm\n",
    "import matplotlib.lines as mlines\n",
    "from sklearn import svm\n",
    "np.random.seed(1)\n",
    "from itertools import product"
   ]
  },
  {
   "cell_type": "code",
   "execution_count": 2,
   "metadata": {
    "collapsed": true
   },
   "outputs": [],
   "source": [
    "import bridgeSampling as bs  # it contains a method to estimate the marginal likelihood according to the Bridge Sampling approach\n",
    "import utilFunctions as ut   # it has different methods to handle and plot data \n",
    "import BayesianModels as bm  # it has methods to build and train bayesian model (Logistic Regression and Neural Nets) \n",
    "import experiments as exp  "
   ]
  },
  {
   "cell_type": "code",
   "execution_count": 3,
   "metadata": {},
   "outputs": [
    {
     "name": "stdout",
     "output_type": "stream",
     "text": [
      "Running GAIA\n",
      "The dataset contains: 10000 samples\n"
     ]
    }
   ],
   "source": [
    "# OGLE, GAIA, VVV, WISE'\n",
    "Data, ID, Class_col, Classes = ut.Initialize(survey='GAIA', sepColumns_=',', sepHeader_=',')"
   ]
  },
  {
   "cell_type": "code",
   "execution_count": 6,
   "metadata": {},
   "outputs": [
    {
     "data": {
      "text/plain": [
       "Index(['Amplitude', 'AndersonDarling', 'Autocor_length', 'Class', 'Con',\n",
       "       'Eta_e', 'FluxPercentileRatioMid20', 'FluxPercentileRatioMid35',\n",
       "       'FluxPercentileRatioMid50', 'FluxPercentileRatioMid65',\n",
       "       'FluxPercentileRatioMid80', 'Freq1_harmonics_amplitude_0',\n",
       "       'Freq1_harmonics_amplitude_1', 'Freq1_harmonics_amplitude_2',\n",
       "       'Freq1_harmonics_amplitude_3', 'Freq1_harmonics_rel_phase_0',\n",
       "       'Freq1_harmonics_rel_phase_1', 'Freq1_harmonics_rel_phase_2',\n",
       "       'Freq1_harmonics_rel_phase_3', 'Freq2_harmonics_amplitude_0',\n",
       "       'Freq2_harmonics_amplitude_1', 'Freq2_harmonics_amplitude_2',\n",
       "       'Freq2_harmonics_amplitude_3', 'Freq2_harmonics_rel_phase_0',\n",
       "       'Freq2_harmonics_rel_phase_1', 'Freq2_harmonics_rel_phase_2',\n",
       "       'Freq2_harmonics_rel_phase_3', 'Freq3_harmonics_amplitude_0',\n",
       "       'Freq3_harmonics_amplitude_1', 'Freq3_harmonics_amplitude_2',\n",
       "       'Freq3_harmonics_amplitude_3', 'Freq3_harmonics_rel_phase_0',\n",
       "       'Freq3_harmonics_rel_phase_1', 'Freq3_harmonics_rel_phase_2',\n",
       "       'Freq3_harmonics_rel_phase_3', 'ID', 'LinearTrend', 'MaxSlope', 'Mean',\n",
       "       'Meanvariance', 'MedianAbsDev', 'MedianBRP', 'N', 'PairSlopeTrend',\n",
       "       'PercentAmplitude', 'PercentDifferenceFluxPercentile', 'PeriodLS',\n",
       "       'Period_fit', 'Psi_CS', 'Psi_eta', 'Q31', 'Rcs', 'Skew',\n",
       "       'SlottedA_length', 'SmallKurtosis', 'Std\\n'],\n",
       "      dtype='object')"
      ]
     },
     "execution_count": 6,
     "metadata": {},
     "output_type": "execute_result"
    }
   ],
   "source": [
    "Data.columns"
   ]
  },
  {
   "cell_type": "code",
   "execution_count": 6,
   "metadata": {
    "collapsed": true
   },
   "outputs": [],
   "source": [
    "RelevantFeatures = ['ogle_id','PeriodLS','CAR_tau','CAR_tmean', 'Skew', 'Psi_CS', 'Psi_eta', 'SlottedA_length','StetsonK','StetsonK_AC', 'class_name']\n",
    "Data =  ut.MostImportanFeature(Data, RelevantFeatures)"
   ]
  },
  {
   "cell_type": "code",
   "execution_count": 7,
   "metadata": {},
   "outputs": [
    {
     "name": "stdout",
     "output_type": "stream",
     "text": [
      "Class 1:  EB , obs:  967\n",
      "Class 2:  DSCT , obs:  980\n"
     ]
    }
   ],
   "source": [
    "Class1 = Classes[4]\n",
    "Class2 = Classes[3]\n",
    "print('Class 1: ', Class1, ', obs: ', Data[Data[Class_col]==Class1].count()[0])\n",
    "print('Class 2: ', Class2, ', obs: ', Data[Data[Class_col]==Class2].count()[0])"
   ]
  },
  {
   "cell_type": "markdown",
   "metadata": {},
   "source": [
    "### DropEasy_ =  False"
   ]
  },
  {
   "cell_type": "markdown",
   "metadata": {},
   "source": [
    "LPV v/s EB, when are dropped the harder instances the accuracy difference between the training and testing sets is over 0.5. If we drop the easier instances the distance is reduced, but it continues being over 0.2.\n",
    " "
   ]
  },
  {
   "cell_type": "code",
   "execution_count": 9,
   "metadata": {},
   "outputs": [
    {
     "name": "stdout",
     "output_type": "stream",
     "text": [
      "Running Define TrainSet\n",
      "(5297, 11)\n",
      "(5297, 11)\n",
      "One To One\n",
      "(1947, 11)\n",
      "(1947, 9)\n",
      "(1947, 2)\n",
      "Acc: 0.95531587057\n",
      "Drop Difficult obs=True\n",
      "Alpha:  0.75\n",
      "Shape training:  (1581, 10)\n",
      "Shape testing:  (366, 10)\n",
      "Running experiments\n",
      "(1581, 10)\n",
      "(366, 10)\n",
      "Running without dimentional reduction, forget argument components\n",
      "(9,)\n",
      "(1581, 9)\n",
      "(1581, 9)\n",
      "['Psi_eta', 'StetsonK', 'CAR_tmean', 'Skew', 'CAR_tau', 'Psi_CS', 'SlottedA_length', 'PeriodLS', 'StetsonK_AC']\n",
      "Index(['class_name', 'Psi_eta', 'StetsonK', 'CAR_tmean', 'Skew', 'CAR_tau',\n",
      "       'Psi_CS', 'SlottedA_length', 'PeriodLS', 'StetsonK_AC'],\n",
      "      dtype='object')\n",
      "Index(['class_name', 'Psi_eta', 'StetsonK', 'CAR_tmean', 'Skew', 'CAR_tau',\n",
      "       'Psi_CS', 'SlottedA_length', 'PeriodLS', 'StetsonK_AC'],\n",
      "      dtype='object')\n",
      "class_name\n",
      "------- Metropolis--------\n"
     ]
    },
    {
     "name": "stderr",
     "output_type": "stream",
     "text": [
      "Sequential sampling (2 chains in 1 job)\n",
      "CompoundStep\n",
      ">Metropolis: [StetsonK_AC]\n",
      ">Metropolis: [PeriodLS]\n",
      ">Metropolis: [SlottedA_length]\n",
      ">Metropolis: [Psi_CS]\n",
      ">Metropolis: [CAR_tau]\n",
      ">Metropolis: [Skew]\n",
      ">Metropolis: [CAR_tmean]\n",
      ">Metropolis: [StetsonK]\n",
      ">Metropolis: [Psi_eta]\n",
      ">Metropolis: [Intercept]\n",
      "100%|████████████████████████████████████████████████████████████████████████████| 20500/20500 [05:49<00:00, 58.63it/s]\n",
      "100%|████████████████████████████████████████████████████████████████████████████| 20500/20500 [05:34<00:00, 61.26it/s]\n",
      "The gelman-rubin statistic is larger than 1.4 for some parameters. The sampler did not converge.\n",
      "The estimated number of effective samples is smaller than 200 for some parameters.\n"
     ]
    },
    {
     "name": "stdout",
     "output_type": "stream",
     "text": [
      "2\n",
      "20000\n",
      "10000\n",
      "20000\n",
      "20000\n",
      "The Bridge Sampling Estimatation of Logml is -542.19911\n",
      "return the last model and trace\n"
     ]
    }
   ],
   "source": [
    "results_summary, model_ogle, trace, dataTrain, dataTest = exp.runExperiments(Data,  class_1= Class1, class_2=Class2, components= [8],\n",
    "                                                                                                 method=[7], size=[0.8], ml= True, \n",
    "                                                                                                 fit_iterations= 20000, name_class_col_= Class_col, \n",
    "                                                                                                 id_col_=ID, biasedSplit = True, \n",
    "                                                                                                 ModifiedPrior = False, DropEasy_ =  False, \n",
    "                                                                                                 alpha_ = 0.75,  oneToOne_ = True, PCA_ = False)\n"
   ]
  },
  {
   "cell_type": "code",
   "execution_count": 10,
   "metadata": {
    "collapsed": true
   },
   "outputs": [],
   "source": [
    "obs_fold = 5\n",
    "labelTrain = dataTrain['label']\n",
    "labelTest = dataTest['label']\n",
    "del dataTrain['label']\n",
    "del dataTest['label']"
   ]
  },
  {
   "cell_type": "markdown",
   "metadata": {},
   "source": [
    "### Complete dataset"
   ]
  },
  {
   "cell_type": "code",
   "execution_count": 13,
   "metadata": {},
   "outputs": [
    {
     "name": "stdout",
     "output_type": "stream",
     "text": [
      "Accuracy train: 0.767868437698\n",
      "Accuracy test: 0.595628415301\n"
     ]
    }
   ],
   "source": [
    "clf = linearModel.LogisticRegression(C=1.0)\n",
    "clf.fit(dataTrain, labelTrain)\n",
    "prediction_freq = clf.predict(dataTrain)\n",
    "print('Accuracy train:' , accuracy_score(labelTrain, prediction_freq, normalize=True))\n",
    "\n",
    "prediction_freq = clf.predict(dataTest)\n",
    "print('Accuracy test:' , accuracy_score(labelTest, prediction_freq, normalize=True))"
   ]
  },
  {
   "cell_type": "markdown",
   "metadata": {},
   "source": [
    "### Leave one out"
   ]
  },
  {
   "cell_type": "code",
   "execution_count": 14,
   "metadata": {
    "collapsed": true
   },
   "outputs": [],
   "source": [
    "loo = LeaveOneOut()\n",
    "loo.get_n_splits(dataTrain)\n",
    "LeaveOneOut()\n",
    "clf = linearModel.LogisticRegression(C=1.0)\n",
    "acc = []\n",
    "for train_index, test_index in loo.split(dataTrain):\n",
    "    X_train, X_test = dataTrain.iloc[train_index,:], dataTrain.iloc[test_index,:]\n",
    "    y_train, y_test = labelTrain.iloc[train_index], labelTrain.iloc[test_index]\n",
    "    clf.fit(X_train, y_train)\n",
    "    prediction_freq = clf.predict(X_test)\n",
    "    acc.append(accuracy_score(y_test, prediction_freq, normalize=True))"
   ]
  },
  {
   "cell_type": "code",
   "execution_count": 15,
   "metadata": {},
   "outputs": [
    {
     "data": {
      "text/plain": [
       "'0.7659709044908286'"
      ]
     },
     "execution_count": 15,
     "metadata": {},
     "output_type": "execute_result"
    }
   ],
   "source": [
    "'{}'.format(np.mean(acc))"
   ]
  },
  {
   "cell_type": "markdown",
   "metadata": {},
   "source": [
    "### K-Fold"
   ]
  },
  {
   "cell_type": "code",
   "execution_count": 16,
   "metadata": {
    "scrolled": true
   },
   "outputs": [
    {
     "name": "stdout",
     "output_type": "stream",
     "text": [
      "Number of folds in train 316\n",
      "Number of folds in test 73\n"
     ]
    }
   ],
   "source": [
    "n_split_train = dataTrain.shape[0]/obs_fold\n",
    "n_split_test = dataTest.shape[0]/ obs_fold\n",
    "print('Number of folds in train', int(n_split_train))\n",
    "print('Number of folds in test',int(n_split_test))"
   ]
  },
  {
   "cell_type": "markdown",
   "metadata": {},
   "source": [
    "### Logistic Regression"
   ]
  },
  {
   "cell_type": "code",
   "execution_count": 17,
   "metadata": {},
   "outputs": [
    {
     "name": "stdout",
     "output_type": "stream",
     "text": [
      "Training...\n",
      "Testing...\n"
     ]
    },
    {
     "data": {
      "image/png": "[encoded data removed]",
      "text/plain": [
       "<matplotlib.figure.Figure at 0x261eba69780>"
      ]
     },
     "metadata": {},
     "output_type": "display_data"
    }
   ],
   "source": [
    "n_split_train = dataTrain.shape[0]/obs_fold\n",
    "n_split_test = dataTest.shape[0]/ obs_fold\n",
    "clf1 = linearModel.LogisticRegression(C=1.0)\n",
    "acc_kfold, acc_kfold_Test = ut.KFold(dataTrain, labelTrain, dataTest, labelTest, n_split_test, n_split_train, clf1)\n",
    "ut.comparativePlotAcc(acc_kfold_Test, acc_kfold)"
   ]
  },
  {
   "cell_type": "markdown",
   "metadata": {},
   "source": [
    "### Support Vector Machine"
   ]
  },
  {
   "cell_type": "code",
   "execution_count": 18,
   "metadata": {},
   "outputs": [
    {
     "name": "stdout",
     "output_type": "stream",
     "text": [
      "Training...\n",
      "Testing...\n"
     ]
    },
    {
     "data": {
      "image/png": "[encoded data removed]",
      "text/plain": [
       "<matplotlib.figure.Figure at 0x261eba76710>"
      ]
     },
     "metadata": {},
     "output_type": "display_data"
    }
   ],
   "source": [
    "clf2 = svm.SVC(C=1.0)\n",
    "acc_kfold, acc_kfold_Test = ut.KFold(dataTrain, labelTrain, dataTest, labelTest, n_split_test, n_split_train, clf2)\n",
    "ut.comparativePlotAcc(acc_kfold_Test, acc_kfold)"
   ]
  },
  {
   "cell_type": "code",
   "execution_count": 19,
   "metadata": {},
   "outputs": [
    {
     "name": "stdout",
     "output_type": "stream",
     "text": [
      "Training...\n",
      "Testing...\n"
     ]
    },
    {
     "data": {
      "image/png": "[encoded data removed]",
      "text/plain": [
       "<matplotlib.figure.Figure at 0x2618d10fcf8>"
      ]
     },
     "metadata": {},
     "output_type": "display_data"
    }
   ],
   "source": [
    "clf3 = RandomForestClassifier(max_depth=2, random_state=0)\n",
    "acc_kfold, acc_kfold_Test = ut.KFold(dataTrain, labelTrain, dataTest, labelTest, n_split_test, n_split_train, clf3)\n",
    "ut.comparativePlotAcc(acc_kfold_Test, acc_kfold)"
   ]
  },
  {
   "cell_type": "markdown",
   "metadata": {},
   "source": [
    "\n",
    "# DropEasy_ =  True"
   ]
  },
  {
   "cell_type": "code",
   "execution_count": 20,
   "metadata": {},
   "outputs": [
    {
     "name": "stdout",
     "output_type": "stream",
     "text": [
      "Running Define TrainSet\n",
      "(5297, 11)\n",
      "(5297, 11)\n",
      "One To One\n",
      "(1947, 11)\n",
      "(1947, 9)\n",
      "(1947, 2)\n",
      "Acc: 0.95531587057\n",
      "Drop Easy obs=True\n",
      "Alpha:  0.75\n",
      "Shape training:  (366, 10)\n",
      "Shape testing:  (1581, 10)\n",
      "Running experiments\n",
      "(366, 10)\n",
      "(1581, 10)\n",
      "8\n",
      "Index(['class_name', 'PC0', 'PC1', 'PC2', 'PC3', 'PC4', 'PC5', 'PC6', 'PC7'], dtype='object')\n",
      "------- Metropolis--------\n"
     ]
    },
    {
     "name": "stderr",
     "output_type": "stream",
     "text": [
      "Sequential sampling (2 chains in 1 job)\n",
      "CompoundStep\n",
      ">Metropolis: [PC7]\n",
      ">Metropolis: [PC6]\n",
      ">Metropolis: [PC5]\n",
      ">Metropolis: [PC4]\n",
      ">Metropolis: [PC3]\n",
      ">Metropolis: [PC2]\n",
      ">Metropolis: [PC1]\n",
      ">Metropolis: [PC0]\n",
      ">Metropolis: [Intercept]\n",
      "100%|███████████████████████████████████████████████████████████████████████████| 20500/20500 [01:38<00:00, 208.47it/s]\n",
      "100%|███████████████████████████████████████████████████████████████████████████| 20500/20500 [01:38<00:00, 207.83it/s]\n",
      "The number of effective samples is smaller than 10% for some parameters.\n"
     ]
    },
    {
     "name": "stdout",
     "output_type": "stream",
     "text": [
      "2\n",
      "20000\n",
      "10000\n",
      "20000\n",
      "20000\n",
      "The Bridge Sampling Estimatation of Logml is -258.55295\n",
      "return the last model and trace\n"
     ]
    }
   ],
   "source": [
    "results_summary, model_ogle, trace, dataTrain, dataTest = exp.runExperiments(Data,  class_1= Class1, class_2=Class2, components= [8],\n",
    "                                                                                                 method=[7], size=[0.8], ml= True, \n",
    "                                                                                                 fit_iterations= 20000, name_class_col_= Class_col, \n",
    "                                                                                                 id_col_=ID, biasedSplit = True, \n",
    "                                                                                                 ModifiedPrior = False, DropEasy_ =  True, \n",
    "                                                                                                 alpha_ = 0.75,  oneToOne_ = True)\n"
   ]
  },
  {
   "cell_type": "code",
   "execution_count": 21,
   "metadata": {
    "collapsed": true
   },
   "outputs": [],
   "source": [
    "obs_fold = 5\n",
    "labelTrain = dataTrain['label']\n",
    "labelTest = dataTest['label']\n",
    "del dataTrain['label']\n",
    "del dataTest['label']"
   ]
  },
  {
   "cell_type": "code",
   "execution_count": 22,
   "metadata": {},
   "outputs": [
    {
     "name": "stdout",
     "output_type": "stream",
     "text": [
      "Accuracy train: 0.581967213115\n",
      "Accuracy test: 0.520556609741\n"
     ]
    }
   ],
   "source": [
    "clf = linearModel.LogisticRegression(C=1.0)\n",
    "clf.fit(dataTrain, labelTrain)\n",
    "prediction_freq = clf.predict(dataTrain)\n",
    "print('Accuracy train:' , accuracy_score(labelTrain, prediction_freq, normalize=True))\n",
    "\n",
    "prediction_freq = clf.predict(dataTest)\n",
    "print('Accuracy test:' , accuracy_score(labelTest, prediction_freq, normalize=True))"
   ]
  },
  {
   "cell_type": "markdown",
   "metadata": {},
   "source": [
    "### Logistic Regression"
   ]
  },
  {
   "cell_type": "code",
   "execution_count": 23,
   "metadata": {},
   "outputs": [
    {
     "name": "stdout",
     "output_type": "stream",
     "text": [
      "Training...\n",
      "Testing...\n"
     ]
    },
    {
     "data": {
      "image/png": "[encoded data removed]",
      "text/plain": [
       "<matplotlib.figure.Figure at 0x261eba87470>"
      ]
     },
     "metadata": {},
     "output_type": "display_data"
    }
   ],
   "source": [
    "n_split_train = dataTrain.shape[0]/obs_fold\n",
    "n_split_test = dataTest.shape[0]/ obs_fold\n",
    "clf1 = linearModel.LogisticRegression(C=1.0)\n",
    "acc_kfold, acc_kfold_Test = ut.KFold(dataTrain, labelTrain, dataTest, labelTest, n_split_test, n_split_train, clf1)\n",
    "ut.comparativePlotAcc(acc_kfold_Test, acc_kfold)"
   ]
  },
  {
   "cell_type": "markdown",
   "metadata": {},
   "source": [
    "### Support Vector Machine"
   ]
  },
  {
   "cell_type": "code",
   "execution_count": 24,
   "metadata": {},
   "outputs": [
    {
     "name": "stdout",
     "output_type": "stream",
     "text": [
      "Training...\n",
      "Testing...\n"
     ]
    },
    {
     "data": {
      "image/png": "[encoded data removed]",
      "text/plain": [
       "<matplotlib.figure.Figure at 0x261e935a080>"
      ]
     },
     "metadata": {},
     "output_type": "display_data"
    }
   ],
   "source": [
    "clf2 = svm.SVC(C=1.0)\n",
    "acc_kfold, acc_kfold_Test = ut.KFold(dataTrain, labelTrain, dataTest, labelTest, n_split_test, n_split_train, clf2)\n",
    "ut.comparativePlotAcc(acc_kfold_Test, acc_kfold)"
   ]
  },
  {
   "cell_type": "markdown",
   "metadata": {},
   "source": [
    "### Random Forest"
   ]
  },
  {
   "cell_type": "code",
   "execution_count": 25,
   "metadata": {},
   "outputs": [
    {
     "name": "stdout",
     "output_type": "stream",
     "text": [
      "Training...\n",
      "Testing...\n"
     ]
    },
    {
     "data": {
      "image/png": "[encoded data removed]",
      "text/plain": [
       "<matplotlib.figure.Figure at 0x261e98cd9e8>"
      ]
     },
     "metadata": {},
     "output_type": "display_data"
    }
   ],
   "source": [
    "clf3 = RandomForestClassifier(max_depth=2, random_state=0)\n",
    "acc_kfold, acc_kfold_Test = ut.KFold(dataTrain, labelTrain, dataTest, labelTest, n_split_test, n_split_train, clf3)\n",
    "ut.comparativePlotAcc(acc_kfold_Test, acc_kfold)"
   ]
  },
  {
   "cell_type": "code",
   "execution_count": null,
   "metadata": {
    "collapsed": true
   },
   "outputs": [],
   "source": [
    "\n"
   ]
  }
 ],
 "metadata": {
  "kernelspec": {
   "display_name": "Python 3",
   "language": "python",
   "name": "python3"
  },
  "language_info": {
   "codemirror_mode": {
    "name": "ipython",
    "version": 3
   },
   "file_extension": ".py",
   "mimetype": "text/x-python",
   "name": "python",
   "nbconvert_exporter": "python",
   "pygments_lexer": "ipython3",
   "version": "3.6.6"
  }
 },
 "nbformat": 4,
 "nbformat_minor": 2
}
