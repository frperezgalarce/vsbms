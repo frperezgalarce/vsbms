{
 "cells": [
  {
   "cell_type": "code",
   "execution_count": 21,
   "metadata": {
    "collapsed": true
   },
   "outputs": [],
   "source": [
    "import feets\n",
    "from feets.extractors.ext_lomb_scargle import LombScargle as FeetsLombScargle, lscargle as ls"
   ]
  },
  {
   "cell_type": "code",
   "execution_count": 22,
   "metadata": {
    "collapsed": true
   },
   "outputs": [],
   "source": [
    "import os\n",
    "import numpy as np\n",
    "\n",
    "%matplotlib inline\n",
    "import matplotlib.pyplot as plt\n",
    "import pandas as pd"
   ]
  },
  {
   "cell_type": "code",
   "execution_count": 23,
   "metadata": {},
   "outputs": [
    {
     "name": "stderr",
     "output_type": "stream",
     "text": [
      "C:\\Users\\frper\\AppData\\Local\\Continuum\\Anaconda3\\lib\\site-packages\\feets\\extractors\\core.py:234: ExtractorWarning: The original FATS documentation says that the result of StetsonJ must be ~0 for gausian distribution but the result is ~-0.41\n",
      "  warnings.warn(w, ExtractorWarning)\n",
      "C:\\Users\\frper\\AppData\\Local\\Continuum\\Anaconda3\\lib\\site-packages\\feets\\extractors\\core.py:234: ExtractorWarning: The original FATS documentation says that the result of AndersonDarling must be ~0.25 for gausian distribution but the  result is ~-0.60\n",
      "  warnings.warn(w, ExtractorWarning)\n",
      "C:\\Users\\frper\\AppData\\Local\\Continuum\\Anaconda3\\lib\\site-packages\\feets\\extractors\\core.py:234: ExtractorWarning: The original FATS documentation says that the result of StetsonK must be 2/pi=0.798 for gausian distribution but the result is ~0.2\n",
      "  warnings.warn(w, ExtractorWarning)\n"
     ]
    }
   ],
   "source": [
    "fs = feets.FeatureSpace()"
   ]
  },
  {
   "cell_type": "code",
   "execution_count": 14,
   "metadata": {},
   "outputs": [],
   "source": [
    "#Data = pd.read_table(\"lc_58.6272.729.B.txt\", sep=\",\")\n",
    "Data = pd.read_table('OGLE-LMC-RRLYR-14100.dat', delim_whitespace= True, header = None)"
   ]
  },
  {
   "cell_type": "code",
   "execution_count": 16,
   "metadata": {},
   "outputs": [
    {
     "data": {
      "text/plain": [
       "0      18.748\n",
       "1      18.745\n",
       "2      18.884\n",
       "3      18.820\n",
       "4      18.811\n",
       "5      18.759\n",
       "6      18.881\n",
       "7      18.902\n",
       "8      19.210\n",
       "9      18.854\n",
       "10     18.649\n",
       "11     18.706\n",
       "12     18.727\n",
       "13     18.931\n",
       "14     18.870\n",
       "15     18.975\n",
       "16     18.966\n",
       "17     19.067\n",
       "18     18.648\n",
       "19     18.730\n",
       "20     18.921\n",
       "21     19.047\n",
       "22     19.149\n",
       "23     18.975\n",
       "24     19.230\n",
       "25     18.748\n",
       "26     19.039\n",
       "27     19.076\n",
       "28     19.079\n",
       "29     18.634\n",
       "        ...  \n",
       "829    19.027\n",
       "830    18.797\n",
       "831    18.854\n",
       "832    19.122\n",
       "833    18.887\n",
       "834    19.031\n",
       "835    19.238\n",
       "836    18.932\n",
       "837    19.082\n",
       "838    18.941\n",
       "839    18.866\n",
       "840    18.818\n",
       "841    19.014\n",
       "842    18.794\n",
       "843    19.197\n",
       "844    19.175\n",
       "845    19.221\n",
       "846    19.006\n",
       "847    18.975\n",
       "848    19.264\n",
       "849    19.035\n",
       "850    19.248\n",
       "851    18.920\n",
       "852    19.200\n",
       "853    18.756\n",
       "854    18.940\n",
       "855    18.979\n",
       "856    18.778\n",
       "857    18.724\n",
       "858    18.931\n",
       "Name: 1, Length: 859, dtype: float64"
      ]
     },
     "execution_count": 16,
     "metadata": {},
     "output_type": "execute_result"
    }
   ],
   "source": [
    "Data[1]"
   ]
  },
  {
   "cell_type": "code",
   "execution_count": 17,
   "metadata": {},
   "outputs": [],
   "source": [
    "magnitude = Data[1]\n",
    "time = Data[0]"
   ]
  },
  {
   "cell_type": "code",
   "execution_count": 24,
   "metadata": {},
   "outputs": [
    {
     "data": {
      "text/plain": [
       "<FeatureSpace: Beyond1Std(), MeanVariance(), PercentAmplitude(), Skew(), AutocorLength(nlags=100), FluxPercentileRatioMid20(), Eta_e(), FluxPercentileRatioMid35(), FluxPercentileRatioMid80(), CAR(minimize_method=nelder-mead), Std(), StetsonJ(), Q31(), StetsonL(), MedianBRP(), MaxSlope(timesort=True), FourierComponents(lscargle_kwds={'autopower_kwds': {'normalization': 'standard', 'nyquist_factor': 100}}), Amplitude(), StetsonKAC(T=1), LombScargle(lscargle_kwds={'autopower_kwds': {'normalization': 'standard', 'nyquist_factor': 100}}, fap_kwds={'normalization': 'standard', 'method': 'simple'}), AndersonDarling(), SmallKurtosis(), RCS(), StructureFunctions(), FluxPercentileRatioMid65(), PercentDifferenceFluxPercentile(), PairSlopeTrend(), Color(), StetsonK(), SlottedA_length(T=1), MedianAbsDev(), Mean(), Con(consecutiveStar=3), LinearTrend(), Q31Color(), Gskew(), FluxPercentileRatioMid50(), EtaColor()>"
      ]
     },
     "execution_count": 24,
     "metadata": {},
     "output_type": "execute_result"
    }
   ],
   "source": [
    "fs"
   ]
  },
  {
   "cell_type": "code",
   "execution_count": 25,
   "metadata": {
    "collapsed": true
   },
   "outputs": [],
   "source": [
    "lscargle = FeetsLombScargle()"
   ]
  },
  {
   "cell_type": "code",
   "execution_count": 26,
   "metadata": {
    "collapsed": true
   },
   "outputs": [],
   "source": [
    "fasper_kwds = {\"autopower_kwds\": {\"samples_per_peak\": 6., \"nyquist_factor\": 10}}\n",
    "\n",
    "params = {\n",
    "    \"lscargle_kwds\": {\n",
    "        \"autopower_kwds\": {\n",
    "            \"normalization\": \"standard\",\n",
    "            \"samples_per_peak\": 6., \"nyquist_factor\": 10\n",
    "        }\n",
    "    },\n",
    "    \"fap_kwds\": {\n",
    "        \"normalization\": \"standard\",\n",
    "        \"method\": \"simple\"}\n",
    "}"
   ]
  },
  {
   "cell_type": "code",
   "execution_count": 27,
   "metadata": {},
   "outputs": [
    {
     "name": "stdout",
     "output_type": "stream",
     "text": [
      "Wall time: 2.27 s\n"
     ]
    },
    {
     "data": {
      "text/plain": [
       "{'PeriodLS': 1.723997772866014,\n",
       " 'Period_fit': 0.0,\n",
       " 'Psi_CS': 0.13781893934707304,\n",
       " 'Psi_eta': 0.0}"
      ]
     },
     "execution_count": 27,
     "metadata": {},
     "output_type": "execute_result"
    }
   ],
   "source": [
    "%time feets_ls = lscargle.fit(magnitude, time, **params)\n",
    "feets_ls"
   ]
  },
  {
   "cell_type": "code",
   "execution_count": 28,
   "metadata": {},
   "outputs": [
    {
     "name": "stdout",
     "output_type": "stream",
     "text": [
      "Wall time: 1.99 s\n"
     ]
    },
    {
     "data": {
      "text/plain": [
       "{'Freq1_harmonics_amplitude_0': 0.17419741968736507,\n",
       " 'Freq1_harmonics_amplitude_1': 0.080619047928421,\n",
       " 'Freq1_harmonics_amplitude_2': 0.06410734575977055,\n",
       " 'Freq1_harmonics_amplitude_3': 0.03791258540132674,\n",
       " 'Freq1_harmonics_rel_phase_0': 0.0,\n",
       " 'Freq1_harmonics_rel_phase_1': 1.7075959922978128,\n",
       " 'Freq1_harmonics_rel_phase_2': 0.38060276081747557,\n",
       " 'Freq1_harmonics_rel_phase_3': 2.5520891957811696,\n",
       " 'Freq2_harmonics_amplitude_0': 0.027156693676319656,\n",
       " 'Freq2_harmonics_amplitude_1': 0.0077748863417980586,\n",
       " 'Freq2_harmonics_amplitude_2': 0.0074456170292999755,\n",
       " 'Freq2_harmonics_amplitude_3': 0.004966456183051705,\n",
       " 'Freq2_harmonics_rel_phase_0': 0.0,\n",
       " 'Freq2_harmonics_rel_phase_1': 1.4403060834535553,\n",
       " 'Freq2_harmonics_rel_phase_2': 1.7179860578106194,\n",
       " 'Freq2_harmonics_rel_phase_3': 1.786026434680676,\n",
       " 'Freq3_harmonics_amplitude_0': 0.02553575057833695,\n",
       " 'Freq3_harmonics_amplitude_1': 0.01220222974228238,\n",
       " 'Freq3_harmonics_amplitude_2': 0.0017447596240498181,\n",
       " 'Freq3_harmonics_amplitude_3': 0.004122820058353272,\n",
       " 'Freq3_harmonics_rel_phase_0': 0.0,\n",
       " 'Freq3_harmonics_rel_phase_1': 0.19125487580373568,\n",
       " 'Freq3_harmonics_rel_phase_2': 1.3846400990767775,\n",
       " 'Freq3_harmonics_rel_phase_3': 1.8236934530435605}"
      ]
     },
     "execution_count": 28,
     "metadata": {},
     "output_type": "execute_result"
    }
   ],
   "source": [
    "from feets.extractors.ext_fourier_components import FourierComponents as FeetsFourierComponents\n",
    "fc = FeetsFourierComponents()\n",
    "fasper_kwds = {\"autopower_kwds\": {\"samples_per_peak\": 6., \"nyquist_factor\": 100}}\n",
    "%time feets_fc1 = fc.fit(magnitude, time, lscargle_kwds=fasper_kwds)\n",
    "feets_fc1"
   ]
  },
  {
   "cell_type": "code",
   "execution_count": 29,
   "metadata": {},
   "outputs": [
    {
     "name": "stdout",
     "output_type": "stream",
     "text": [
      "Wall time: 28 s\n"
     ]
    },
    {
     "data": {
      "text/plain": [
       "{'Freq1_harmonics_amplitude_0': 0.17473284798819172,\n",
       " 'Freq1_harmonics_amplitude_1': 0.0814777265445356,\n",
       " 'Freq1_harmonics_amplitude_2': 0.06612218990254647,\n",
       " 'Freq1_harmonics_amplitude_3': 0.04022103831496281,\n",
       " 'Freq1_harmonics_rel_phase_0': 0.0,\n",
       " 'Freq1_harmonics_rel_phase_1': 1.7849863283205205,\n",
       " 'Freq1_harmonics_rel_phase_2': 0.5703876550854808,\n",
       " 'Freq1_harmonics_rel_phase_3': -0.3290623492236573,\n",
       " 'Freq2_harmonics_amplitude_0': 0.026340040057766315,\n",
       " 'Freq2_harmonics_amplitude_1': 0.016135453558269102,\n",
       " 'Freq2_harmonics_amplitude_2': 0.0009197436129813592,\n",
       " 'Freq2_harmonics_amplitude_3': 0.001037942641506996,\n",
       " 'Freq2_harmonics_rel_phase_0': 0.0,\n",
       " 'Freq2_harmonics_rel_phase_1': 0.41663086733029214,\n",
       " 'Freq2_harmonics_rel_phase_2': 1.9148381871220872,\n",
       " 'Freq2_harmonics_rel_phase_3': -0.7620230084614021,\n",
       " 'Freq3_harmonics_amplitude_0': 0.02526825007263898,\n",
       " 'Freq3_harmonics_amplitude_1': 0.007434491651863954,\n",
       " 'Freq3_harmonics_amplitude_2': 0.005100408571679998,\n",
       " 'Freq3_harmonics_amplitude_3': 0.005890081715889706,\n",
       " 'Freq3_harmonics_rel_phase_0': 0.0,\n",
       " 'Freq3_harmonics_rel_phase_1': 1.2490919406492995,\n",
       " 'Freq3_harmonics_rel_phase_2': -1.2886974390961683,\n",
       " 'Freq3_harmonics_rel_phase_3': 1.1815441266957851}"
      ]
     },
     "execution_count": 29,
     "metadata": {},
     "output_type": "execute_result"
    }
   ],
   "source": [
    "from feets.extractors.ext_fourier_components import FourierComponents as FeetsFourierComponents\n",
    "fc = FeetsFourierComponents()\n",
    "fasper_kwds = {\"autopower_kwds\": {\"samples_per_peak\": 50., \"nyquist_factor\": 100}}\n",
    "%time feets_fc2 = fc.fit(magnitude, time, lscargle_kwds=fasper_kwds)\n",
    "feets_fc2"
   ]
  },
  {
   "cell_type": "code",
   "execution_count": 30,
   "metadata": {
    "collapsed": true
   },
   "outputs": [],
   "source": [
    "delta = { k: (feets_fc1.get(k, 0) - feets_fc2.get(k, 0) ) for k in set(feets_fc1) }"
   ]
  },
  {
   "cell_type": "code",
   "execution_count": 31,
   "metadata": {},
   "outputs": [
    {
     "data": {
      "text/plain": [
       "{'Freq1_harmonics_amplitude_0': -0.0005354283008266458,\n",
       " 'Freq1_harmonics_amplitude_1': -0.0008586786161145915,\n",
       " 'Freq1_harmonics_amplitude_2': -0.002014844142775918,\n",
       " 'Freq1_harmonics_amplitude_3': -0.002308452913636072,\n",
       " 'Freq1_harmonics_rel_phase_0': 0.0,\n",
       " 'Freq1_harmonics_rel_phase_1': -0.07739033602270773,\n",
       " 'Freq1_harmonics_rel_phase_2': -0.18978489426800527,\n",
       " 'Freq1_harmonics_rel_phase_3': 2.881151545004827,\n",
       " 'Freq2_harmonics_amplitude_0': 0.000816653618553341,\n",
       " 'Freq2_harmonics_amplitude_1': -0.008360567216471044,\n",
       " 'Freq2_harmonics_amplitude_2': 0.0065258734163186165,\n",
       " 'Freq2_harmonics_amplitude_3': 0.003928513541544709,\n",
       " 'Freq2_harmonics_rel_phase_0': 0.0,\n",
       " 'Freq2_harmonics_rel_phase_1': 1.0236752161232632,\n",
       " 'Freq2_harmonics_rel_phase_2': -0.19685212931146778,\n",
       " 'Freq2_harmonics_rel_phase_3': 2.5480494431420784,\n",
       " 'Freq3_harmonics_amplitude_0': 0.00026750050569797,\n",
       " 'Freq3_harmonics_amplitude_1': 0.004767738090418426,\n",
       " 'Freq3_harmonics_amplitude_2': -0.00335564894763018,\n",
       " 'Freq3_harmonics_amplitude_3': -0.0017672616575364342,\n",
       " 'Freq3_harmonics_rel_phase_0': 0.0,\n",
       " 'Freq3_harmonics_rel_phase_1': -1.0578370648455637,\n",
       " 'Freq3_harmonics_rel_phase_2': 2.673337538172946,\n",
       " 'Freq3_harmonics_rel_phase_3': 0.6421493263477753}"
      ]
     },
     "execution_count": 31,
     "metadata": {},
     "output_type": "execute_result"
    }
   ],
   "source": [
    "delta"
   ]
  },
  {
   "cell_type": "code",
   "execution_count": 32,
   "metadata": {},
   "outputs": [
    {
     "name": "stdout",
     "output_type": "stream",
     "text": [
      "10 loops, best of 3: 24.7 ms per loop\n"
     ]
    }
   ],
   "source": [
    "%%timeit -n 10\n",
    "feets_ls = FeetsLombScargle\n",
    "feets_ls = lscargle.fit(magnitude, time, **params)"
   ]
  },
  {
   "cell_type": "code",
   "execution_count": null,
   "metadata": {
    "collapsed": true
   },
   "outputs": [],
   "source": []
  }
 ],
 "metadata": {
  "kernelspec": {
   "display_name": "Python 3",
   "language": "python",
   "name": "python3"
  },
  "language_info": {
   "codemirror_mode": {
    "name": "ipython",
    "version": 3
   },
   "file_extension": ".py",
   "mimetype": "text/x-python",
   "name": "python",
   "nbconvert_exporter": "python",
   "pygments_lexer": "ipython3",
   "version": "3.6.6"
  }
 },
 "nbformat": 4,
 "nbformat_minor": 2
}
