{
 "cells": [
  {
   "cell_type": "code",
   "execution_count": 1,
   "metadata": {},
   "outputs": [],
   "source": [
    "\n",
    "import pandas as pd\n",
    "import numpy as np; np.random.seed(42)\n",
    "import matplotlib.pyplot as plt\n",
    "import seaborn as sns"
   ]
  },
  {
   "cell_type": "code",
   "execution_count": 2,
   "metadata": {},
   "outputs": [
    {
     "name": "stderr",
     "output_type": "stream",
     "text": [
      "/home/franciscoperez/anaconda3/lib/python3.7/site-packages/ipykernel_launcher.py:3: FutureWarning: read_table is deprecated, use read_csv instead.\n",
      "  This is separate from the ipykernel package so we can avoid doing imports until\n",
      "/home/franciscoperez/anaconda3/lib/python3.7/site-packages/ipykernel_launcher.py:4: FutureWarning: read_table is deprecated, use read_csv instead.\n",
      "  after removing the cwd from sys.path.\n"
     ]
    }
   ],
   "source": [
    "path_train = '/home/franciscoperez/Documents/GitHub/data/BIASEDFATS/Train_rrlyr-3.csv'\n",
    "path_test = '/home/franciscoperez/Documents/GitHub/data/BIASEDFATS/Test_rrlyr-3.csv'\n",
    "lc_test = pd.read_table(path_test, sep= ',')\n",
    "lc_train = pd.read_table(path_train, sep= ',')"
   ]
  },
  {
   "cell_type": "code",
   "execution_count": 3,
   "metadata": {},
   "outputs": [
    {
     "ename": "NameError",
     "evalue": "name 'predTest' is not defined",
     "output_type": "error",
     "traceback": [
      "\u001b[0;31m---------------------------------------------------------------------------\u001b[0m",
      "\u001b[0;31mNameError\u001b[0m                                 Traceback (most recent call last)",
      "\u001b[0;32m<ipython-input-3-bf5f9401efee>\u001b[0m in \u001b[0;36m<module>\u001b[0;34m()\u001b[0m\n\u001b[1;32m      5\u001b[0m \u001b[0mplt\u001b[0m\u001b[0;34m.\u001b[0m\u001b[0mfigure\u001b[0m\u001b[0;34m(\u001b[0m\u001b[0mfigsize\u001b[0m\u001b[0;34m=\u001b[0m\u001b[0;34m(\u001b[0m\u001b[0;36m14\u001b[0m\u001b[0;34m,\u001b[0m \u001b[0;36m7\u001b[0m\u001b[0;34m)\u001b[0m\u001b[0;34m)\u001b[0m\u001b[0;34m\u001b[0m\u001b[0;34m\u001b[0m\u001b[0m\n\u001b[1;32m      6\u001b[0m \u001b[0mplt\u001b[0m\u001b[0;34m.\u001b[0m\u001b[0mxlim\u001b[0m\u001b[0;34m(\u001b[0m\u001b[0;36m0\u001b[0m\u001b[0;34m,\u001b[0m\u001b[0;34m)\u001b[0m\u001b[0;34m\u001b[0m\u001b[0;34m\u001b[0m\u001b[0m\n\u001b[0;32m----> 7\u001b[0;31m sns.distplot(predTest, rug=True, hist=False, color='black',  kde_kws={\"color\": \"k\", \"lw\": 3},\n\u001b[0m\u001b[1;32m      8\u001b[0m                   hist_kws={\"histtype\": \"step\", \"linewidth\": 3,\n\u001b[1;32m      9\u001b[0m                             \"alpha\": 1, \"color\": \"black\"}, norm_hist=True);\n",
      "\u001b[0;31mNameError\u001b[0m: name 'predTest' is not defined"
     ]
    },
    {
     "data": {
      "image/png": "[encoded data removed]",
      "text/plain": [
       "<Figure size 1008x504 with 1 Axes>"
      ]
     },
     "metadata": {
      "needs_background": "light"
     },
     "output_type": "display_data"
    }
   ],
   "source": [
    "\n",
    "rc={'axes.labelsize': 18, 'font.size': 18, 'legend.fontsize': 18.0, 'axes.titlesize': 18}\n",
    "plt.rcParams.update(**rc)\n",
    "\n",
    "plt.figure(figsize=(14, 7))\n",
    "plt.xlim(0,)\n",
    "sns.distplot(predTest, rug=True, hist=False, color='black',  kde_kws={\"color\": \"k\", \"lw\": 3},\n",
    "                  hist_kws={\"histtype\": \"step\", \"linewidth\": 3,\n",
    "                            \"alpha\": 1, \"color\": \"black\"}, norm_hist=True);\n",
    "plt.xlabel('Probability of belonging to a true class')"
   ]
  },
  {
   "cell_type": "code",
   "execution_count": null,
   "metadata": {},
   "outputs": [],
   "source": [
    "rc={'axes.labelsize': 18, 'font.size': 18, 'legend.fontsize': 18.0, 'axes.titlesize': 18}\n",
    "plt.rcParams.update(**rc)\n",
    "\n",
    "plt.figure(figsize=(14, 7))\n",
    "plt.xlim(0,)\n",
    "sns.distplot(1-predTrain, rug=True, hist=True, kde=False, color='black',  kde_kws={\"color\": \"k\", \"lw\": 3},\n",
    "                  hist_kws={\"histtype\": \"step\", \"linewidth\": 3,\n",
    "                            \"alpha\": 1, \"color\": \"black\"}, norm_hist=True, bins =7);\n",
    "plt.xlabel('Probability of belonging to a true class')\n",
    "\n",
    "def upper_rugplot(data, height=.05, ax=None, **kwargs):\n",
    "    from matplotlib.collections import LineCollection\n",
    "    ax = ax or plt.gca()\n",
    "    kwargs.setdefault(\"linewidth\", 1)\n",
    "    segs = np.stack((np.c_[data, data],\n",
    "                     np.c_[np.ones_like(data), np.ones_like(data)-height]),\n",
    "                    axis=-1)\n",
    "    lc = LineCollection(segs, transform=ax.get_xaxis_transform(), **kwargs)\n",
    "    ax.add_collection(lc)\n"
   ]
  },
  {
   "cell_type": "code",
   "execution_count": null,
   "metadata": {},
   "outputs": [],
   "source": [
    "predTrain = lc_train['Pred'].sample(100000)\n",
    "predTest = lc_test['Pred']\n"
   ]
  },
  {
   "cell_type": "code",
   "execution_count": null,
   "metadata": {},
   "outputs": [],
   "source": [
    "rc={'axes.labelsize': 18, 'font.size': 18, 'legend.fontsize': 18.0, 'axes.titlesize': 18}\n",
    "plt.rcParams.update(**rc)\n",
    "\n",
    "\n",
    "fig, ax = plt.subplots(figsize=(14, 7))\n",
    "plt.xlim(0,)\n",
    "sns.distplot(1-predTrain, rug=False, hist=True, kde=False, color='black',  kde_kws={\"color\": \"k\", \"lw\": 3},\n",
    "                  hist_kws={\"histtype\": \"step\", \"linewidth\": 3,\n",
    "                            \"alpha\": 1, \"color\": \"black\"}, norm_hist=True);\n",
    "\n",
    "upper_rugplot(predTrain, ax=ax, color='black')\n",
    "plt.ylim(0,10)\n",
    "plt.xlabel('Probability of belonging to a true class')\n",
    "plt.show()"
   ]
  },
  {
   "cell_type": "code",
   "execution_count": null,
   "metadata": {
    "pycharm": {
     "name": "#%%\n"
    }
   },
   "outputs": [],
   "source": [
    "rc={'axes.labelsize': 18, 'font.size': 18, 'legend.fontsize': 18.0, 'axes.titlesize': 18}\n",
    "plt.rcParams.update(**rc)\n",
    "\n",
    "\n",
    "fig, ax = plt.subplots(figsize=(14, 7))\n",
    "plt.xlim(0,)\n",
    "sns.distplot(1-predTest, rug=False, hist=True, kde=False, color='black',  kde_kws={\"color\": \"k\", \"lw\": 3},\n",
    "                  hist_kws={\"histtype\": \"step\", \"linewidth\": 3,\n",
    "                            \"alpha\": 1, \"color\": \"black\"}, norm_hist=True, bins =10);\n",
    "\n",
    "upper_rugplot(predTest, ax=ax, color='black')\n",
    "plt.ylim(0,10)\n",
    "plt.xlabel('Probability of belonging to a true class')\n",
    "plt.show()\n",
    "\n",
    "\n"
   ]
  },
  {
   "cell_type": "code",
   "execution_count": null,
   "metadata": {},
   "outputs": [],
   "source": []
  },
  {
   "cell_type": "code",
   "execution_count": null,
   "metadata": {},
   "outputs": [],
   "source": []
  }
 ],
 "metadata": {
  "kernelspec": {
   "display_name": "Python 3",
   "language": "python",
   "name": "python3"
  },
  "language_info": {
   "codemirror_mode": {
    "name": "ipython",
    "version": 3
   },
   "file_extension": ".py",
   "mimetype": "text/x-python",
   "name": "python",
   "nbconvert_exporter": "python",
   "pygments_lexer": "ipython3",
   "version": "3.7.7"
  }
 },
 "nbformat": 4,
 "nbformat_minor": 4
}
