{
 "cells": [
  {
   "cell_type": "code",
   "execution_count": 1,
   "metadata": {},
   "outputs": [],
   "source": [
    "import numpy as np\n",
    "import matplotlib.pyplot as plt\n",
    "import pandas as pd\n",
    "import seaborn as sns"
   ]
  },
  {
   "cell_type": "code",
   "execution_count": 2,
   "metadata": {},
   "outputs": [
    {
     "name": "stderr",
     "output_type": "stream",
     "text": [
      "/home/franciscoperez/anaconda3/lib/python3.7/site-packages/ipykernel_launcher.py:5: FutureWarning: read_table is deprecated, use read_csv instead.\n",
      "  \"\"\"\n",
      "/home/franciscoperez/anaconda3/lib/python3.7/site-packages/ipykernel_launcher.py:6: FutureWarning: read_table is deprecated, use read_csv instead.\n",
      "  \n"
     ]
    }
   ],
   "source": [
    "path_train = '/home/franciscoperez/Documents/GitHub/data/BIASEDFATS/Train_rrlyr-1.csv'\n",
    "path_test = '/home/franciscoperez/Documents/GitHub/data/BIASEDFATS/Test_rrlyr-1.csv'\n",
    "\n",
    "\n",
    "lc_test = pd.read_table(path_train, sep= ',')\n",
    "lc_train = pd.read_table(path_test, sep= ',')"
   ]
  },
  {
   "cell_type": "code",
   "execution_count": 15,
   "metadata": {},
   "outputs": [
    {
     "data": {
      "text/html": [
       "<div>\n",
       "<style scoped>\n",
       "    .dataframe tbody tr th:only-of-type {\n",
       "        vertical-align: middle;\n",
       "    }\n",
       "\n",
       "    .dataframe tbody tr th {\n",
       "        vertical-align: top;\n",
       "    }\n",
       "\n",
       "    .dataframe thead th {\n",
       "        text-align: right;\n",
       "    }\n",
       "</style>\n",
       "<table border=\"1\" class=\"dataframe\">\n",
       "  <thead>\n",
       "    <tr style=\"text-align: right;\">\n",
       "      <th></th>\n",
       "      <th>Unnamed: 0</th>\n",
       "      <th>Amplitude</th>\n",
       "      <th>AndersonDarling</th>\n",
       "      <th>Autocor_length</th>\n",
       "      <th>Beyond1Std</th>\n",
       "      <th>CAR_mean</th>\n",
       "      <th>CAR_sigma</th>\n",
       "      <th>CAR_tau</th>\n",
       "      <th>Con</th>\n",
       "      <th>Eta_e</th>\n",
       "      <th>...</th>\n",
       "      <th>StructureFunction_index_31</th>\n",
       "      <th>StructureFunction_index_32</th>\n",
       "      <th>Pred</th>\n",
       "      <th>Pred2</th>\n",
       "      <th>h</th>\n",
       "      <th>e</th>\n",
       "      <th>u</th>\n",
       "      <th>label</th>\n",
       "      <th>Field</th>\n",
       "      <th>Class</th>\n",
       "    </tr>\n",
       "  </thead>\n",
       "  <tbody>\n",
       "    <tr>\n",
       "      <th>8</th>\n",
       "      <td>155698</td>\n",
       "      <td>0.42150</td>\n",
       "      <td>0.000000</td>\n",
       "      <td>1</td>\n",
       "      <td>0.335404</td>\n",
       "      <td>83.959961</td>\n",
       "      <td>0.657119</td>\n",
       "      <td>0.226170</td>\n",
       "      <td>0.0</td>\n",
       "      <td>164.624806</td>\n",
       "      <td>...</td>\n",
       "      <td>1.883937</td>\n",
       "      <td>1.250193</td>\n",
       "      <td>0.082933</td>\n",
       "      <td>0.917067</td>\n",
       "      <td>0.152110</td>\n",
       "      <td>0.544198</td>\n",
       "      <td>0.317644</td>\n",
       "      <td>ClassA</td>\n",
       "      <td>LMC</td>\n",
       "      <td>RRLYR</td>\n",
       "    </tr>\n",
       "    <tr>\n",
       "      <th>11</th>\n",
       "      <td>154413</td>\n",
       "      <td>0.36050</td>\n",
       "      <td>0.000162</td>\n",
       "      <td>1</td>\n",
       "      <td>0.360000</td>\n",
       "      <td>124.948222</td>\n",
       "      <td>0.633903</td>\n",
       "      <td>0.151647</td>\n",
       "      <td>0.0</td>\n",
       "      <td>14.259226</td>\n",
       "      <td>...</td>\n",
       "      <td>1.903360</td>\n",
       "      <td>1.567459</td>\n",
       "      <td>0.011329</td>\n",
       "      <td>0.988671</td>\n",
       "      <td>0.022401</td>\n",
       "      <td>0.914293</td>\n",
       "      <td>0.220360</td>\n",
       "      <td>ClassA</td>\n",
       "      <td>LMC</td>\n",
       "      <td>RRLYR</td>\n",
       "    </tr>\n",
       "    <tr>\n",
       "      <th>28</th>\n",
       "      <td>158740</td>\n",
       "      <td>0.30950</td>\n",
       "      <td>0.004037</td>\n",
       "      <td>1</td>\n",
       "      <td>0.366667</td>\n",
       "      <td>68.662328</td>\n",
       "      <td>0.758295</td>\n",
       "      <td>0.274492</td>\n",
       "      <td>0.0</td>\n",
       "      <td>13.928746</td>\n",
       "      <td>...</td>\n",
       "      <td>2.370487</td>\n",
       "      <td>1.600783</td>\n",
       "      <td>0.011329</td>\n",
       "      <td>0.988671</td>\n",
       "      <td>0.022401</td>\n",
       "      <td>0.914293</td>\n",
       "      <td>0.667929</td>\n",
       "      <td>ClassA</td>\n",
       "      <td>LMC</td>\n",
       "      <td>RRLYR</td>\n",
       "    </tr>\n",
       "    <tr>\n",
       "      <th>37</th>\n",
       "      <td>166062</td>\n",
       "      <td>0.40300</td>\n",
       "      <td>0.000000</td>\n",
       "      <td>1</td>\n",
       "      <td>0.420000</td>\n",
       "      <td>91.290000</td>\n",
       "      <td>0.720534</td>\n",
       "      <td>0.207308</td>\n",
       "      <td>0.0</td>\n",
       "      <td>14.113824</td>\n",
       "      <td>...</td>\n",
       "      <td>2.244451</td>\n",
       "      <td>1.469924</td>\n",
       "      <td>0.009730</td>\n",
       "      <td>0.990270</td>\n",
       "      <td>0.019272</td>\n",
       "      <td>0.925810</td>\n",
       "      <td>0.270927</td>\n",
       "      <td>ClassA</td>\n",
       "      <td>LMC</td>\n",
       "      <td>RRLYR</td>\n",
       "    </tr>\n",
       "    <tr>\n",
       "      <th>41</th>\n",
       "      <td>368731</td>\n",
       "      <td>0.18125</td>\n",
       "      <td>0.000002</td>\n",
       "      <td>1</td>\n",
       "      <td>0.363636</td>\n",
       "      <td>64.440073</td>\n",
       "      <td>0.327803</td>\n",
       "      <td>0.250809</td>\n",
       "      <td>0.0</td>\n",
       "      <td>584.233239</td>\n",
       "      <td>...</td>\n",
       "      <td>2.131815</td>\n",
       "      <td>1.403348</td>\n",
       "      <td>0.064855</td>\n",
       "      <td>0.935145</td>\n",
       "      <td>0.121297</td>\n",
       "      <td>0.615581</td>\n",
       "      <td>0.398357</td>\n",
       "      <td>ClassA</td>\n",
       "      <td>BLG</td>\n",
       "      <td>RRLYR</td>\n",
       "    </tr>\n",
       "  </tbody>\n",
       "</table>\n",
       "<p>5 rows × 73 columns</p>\n",
       "</div>"
      ],
      "text/plain": [
       "    Unnamed: 0  Amplitude  AndersonDarling  Autocor_length  Beyond1Std  \\\n",
       "8       155698    0.42150         0.000000               1    0.335404   \n",
       "11      154413    0.36050         0.000162               1    0.360000   \n",
       "28      158740    0.30950         0.004037               1    0.366667   \n",
       "37      166062    0.40300         0.000000               1    0.420000   \n",
       "41      368731    0.18125         0.000002               1    0.363636   \n",
       "\n",
       "      CAR_mean  CAR_sigma   CAR_tau  Con       Eta_e  ...  \\\n",
       "8    83.959961   0.657119  0.226170  0.0  164.624806  ...   \n",
       "11  124.948222   0.633903  0.151647  0.0   14.259226  ...   \n",
       "28   68.662328   0.758295  0.274492  0.0   13.928746  ...   \n",
       "37   91.290000   0.720534  0.207308  0.0   14.113824  ...   \n",
       "41   64.440073   0.327803  0.250809  0.0  584.233239  ...   \n",
       "\n",
       "    StructureFunction_index_31  StructureFunction_index_32      Pred  \\\n",
       "8                     1.883937                    1.250193  0.082933   \n",
       "11                    1.903360                    1.567459  0.011329   \n",
       "28                    2.370487                    1.600783  0.011329   \n",
       "37                    2.244451                    1.469924  0.009730   \n",
       "41                    2.131815                    1.403348  0.064855   \n",
       "\n",
       "       Pred2         h         e         u   label  Field  Class  \n",
       "8   0.917067  0.152110  0.544198  0.317644  ClassA    LMC  RRLYR  \n",
       "11  0.988671  0.022401  0.914293  0.220360  ClassA    LMC  RRLYR  \n",
       "28  0.988671  0.022401  0.914293  0.667929  ClassA    LMC  RRLYR  \n",
       "37  0.990270  0.019272  0.925810  0.270927  ClassA    LMC  RRLYR  \n",
       "41  0.935145  0.121297  0.615581  0.398357  ClassA    BLG  RRLYR  \n",
       "\n",
       "[5 rows x 73 columns]"
      ]
     },
     "execution_count": 15,
     "metadata": {},
     "output_type": "execute_result"
    }
   ],
   "source": [
    "lc_test.head()"
   ]
  },
  {
   "cell_type": "code",
   "execution_count": 3,
   "metadata": {},
   "outputs": [
    {
     "name": "stderr",
     "output_type": "stream",
     "text": [
      "/home/franciscoperez/anaconda3/lib/python3.7/site-packages/ipykernel_launcher.py:1: FutureWarning: read_table is deprecated, use read_csv instead.\n",
      "  \"\"\"Entry point for launching an IPython kernel.\n"
     ]
    }
   ],
   "source": [
    "data = pd.read_table(\"/home/franciscoperez/Desktop/Code/Marginal_likelihood/data/FATS/OGLE_FATS_12022019.csv\", sep= ',')"
   ]
  },
  {
   "cell_type": "code",
   "execution_count": 19,
   "metadata": {},
   "outputs": [
    {
     "data": {
      "text/plain": [
       "0    OGLE-BLG-LPV-013673.dat\n",
       "1    OGLE-BLG-LPV-097640.dat\n",
       "2    OGLE-BLG-LPV-077954.dat\n",
       "3    OGLE-BLG-LPV-093338.dat\n",
       "4    OGLE-BLG-LPV-186733.dat\n",
       "Name: ID, dtype: object"
      ]
     },
     "execution_count": 19,
     "metadata": {},
     "output_type": "execute_result"
    }
   ],
   "source": [
    "data['ID'].head()"
   ]
  },
  {
   "cell_type": "code",
   "execution_count": 4,
   "metadata": {},
   "outputs": [],
   "source": [
    "new_train = lc_train['ID'].str.split(\"-\", n = 3, expand = True) \n",
    "new_test = lc_test['ID'].str.split(\"-\", n = 3, expand = True) \n",
    "new_data = data['ID'].str.split(\"-\", n = 3, expand = True) "
   ]
  },
  {
   "cell_type": "code",
   "execution_count": 5,
   "metadata": {},
   "outputs": [],
   "source": [
    "lc_train[\"Field\"]= new_train[1] \n",
    "lc_train['Class']= new_train[2]  \n",
    "\n",
    "lc_test[\"Field\"]= new_test[1] \n",
    "lc_test['Class']= new_test[2] \n",
    "data[\"Field\"]= new_data[1] "
   ]
  },
  {
   "cell_type": "code",
   "execution_count": 6,
   "metadata": {},
   "outputs": [
    {
     "data": {
      "text/plain": [
       "<matplotlib.axes._subplots.AxesSubplot at 0x7fa2c18d2250>"
      ]
     },
     "execution_count": 6,
     "metadata": {},
     "output_type": "execute_result"
    },
    {
     "data": {
      "image/png": "[encoded data removed]",
      "text/plain": [
       "<Figure size 432x288 with 1 Axes>"
      ]
     },
     "metadata": {
      "needs_background": "light"
     },
     "output_type": "display_data"
    }
   ],
   "source": [
    "lc_test['Class'].hist()"
   ]
  },
  {
   "cell_type": "code",
   "execution_count": 7,
   "metadata": {},
   "outputs": [
    {
     "data": {
      "text/plain": [
       "0      ECL\n",
       "1    RRLYR\n",
       "2      CEP\n",
       "3      ECL\n",
       "4      ECL\n",
       "Name: Class, dtype: object"
      ]
     },
     "execution_count": 7,
     "metadata": {},
     "output_type": "execute_result"
    }
   ],
   "source": [
    "lc_train['Class'].head(5)"
   ]
  },
  {
   "cell_type": "code",
   "execution_count": 8,
   "metadata": {},
   "outputs": [
    {
     "data": {
      "text/plain": [
       "0    BLG\n",
       "1    BLG\n",
       "2    BLG\n",
       "3    LMC\n",
       "4    SMC\n",
       "Name: Field, dtype: object"
      ]
     },
     "execution_count": 8,
     "metadata": {},
     "output_type": "execute_result"
    }
   ],
   "source": [
    "lc_test[\"Field\"].head()"
   ]
  },
  {
   "cell_type": "code",
   "execution_count": 9,
   "metadata": {},
   "outputs": [
    {
     "data": {
      "text/plain": [
       "array(['BLG', 'GD', 'LMC', 'SMC'], dtype=object)"
      ]
     },
     "execution_count": 9,
     "metadata": {},
     "output_type": "execute_result"
    }
   ],
   "source": [
    "fields = np.unique(lc_test[\"Field\"])\n",
    "fields"
   ]
  },
  {
   "cell_type": "code",
   "execution_count": 10,
   "metadata": {},
   "outputs": [
    {
     "name": "stdout",
     "output_type": "stream",
     "text": [
      "BLG\n",
      "lpv      0.930035\n",
      "rrlyr    0.068356\n",
      "t2cep    0.001458\n",
      "cep      0.000133\n",
      "acv      0.000013\n",
      "yso      0.000004\n",
      "Name: Class, dtype: float64\n",
      "GD\n",
      "ecl      0.982160\n",
      "dsct     0.006461\n",
      "rrlyr    0.003472\n",
      "dn       0.003375\n",
      "lpv      0.002025\n",
      "cep      0.001736\n",
      "t2cep    0.000482\n",
      "acv      0.000193\n",
      "wd       0.000096\n",
      "Name: Class, dtype: float64\n",
      "LMC\n",
      "lpv      0.610662\n",
      "ecl      0.177482\n",
      "rrlyr    0.167279\n",
      "cep      0.022741\n",
      "dsct     0.018814\n",
      "t2cep    0.001387\n",
      "dpv      0.000927\n",
      "acep     0.000556\n",
      "rcb      0.000151\n",
      "Name: Class, dtype: float64\n",
      "SMC\n",
      "lpv      0.594445\n",
      "ecl      0.181600\n",
      "cep      0.144895\n",
      "rrlyr    0.077702\n",
      "t2cep    0.001357\n",
      "Name: Class, dtype: float64\n"
     ]
    }
   ],
   "source": [
    "for f in fields:\n",
    "    lc= data[data['Field']==f]\n",
    "    print(f)\n",
    "    print(lc['Class'].value_counts()/lc.shape[0])\n",
    "    if True == False:\n",
    "        sns.jointplot(x=lc['Mean'], y=lc[\"Beyond1Std\"], kind='kde')"
   ]
  },
  {
   "cell_type": "code",
   "execution_count": 13,
   "metadata": {},
   "outputs": [
    {
     "name": "stdout",
     "output_type": "stream",
     "text": [
      "SMC\n"
     ]
    },
    {
     "name": "stderr",
     "output_type": "stream",
     "text": [
      "/home/franciscoperez/anaconda3/lib/python3.7/site-packages/scipy/stats/stats.py:1713: FutureWarning: Using a non-tuple sequence for multidimensional indexing is deprecated; use `arr[tuple(seq)]` instead of `arr[seq]`. In the future this will be interpreted as an array index, `arr[np.array(seq)]`, which will result either in an error or a different result.\n",
      "  return np.add.reduce(sorted[indexer] * weights, axis=axis) / sumval\n"
     ]
    },
    {
     "name": "stdout",
     "output_type": "stream",
     "text": [
      "GD\n"
     ]
    },
    {
     "data": {
      "image/png": "[encoded data removed]",
      "text/plain": [
       "<Figure size 432x432 with 3 Axes>"
      ]
     },
     "metadata": {},
     "output_type": "display_data"
    },
    {
     "data": {
      "image/png": "[encoded data removed]",
      "text/plain": [
       "<Figure size 432x432 with 3 Axes>"
      ]
     },
     "metadata": {},
     "output_type": "display_data"
    }
   ],
   "source": [
    "rc={'axes.labelsize': 20, 'font.size': 20, 'legend.fontsize': 20.0, 'axes.titlesize': 20.0}\n",
    "plt.rcParams.update(**rc)\n",
    "\n",
    "lc_test = lc_test[lc_test['Class']=='RRLYR']\n",
    "for f in [ 'SMC', 'GD']:\n",
    "    lc= lc_test[lc_test['Field']==f]\n",
    "    print(f)\n",
    "    h = sns.jointplot(x=lc['PeriodLS'], y=lc[\"Amplitude\"], kind='kde', xlim=(0,1), \n",
    "                      ylim =(0, 0.5), color='black', bw=.04, kernel='triw', \n",
    "                      alpha=1, n_levels=3, gridsize=100,\n",
    "                      shade_lowest=False, shade=True)\n",
    "    h.set_axis_labels('x', 'y')\n",
    "# or set labels via the axes objects\n",
    "    h.ax_joint.set_xlabel('Period')\n",
    "    h.ax_joint.set_ylabel('Amplitude')\n",
    "    # also possible to manipulate the histogram plots this way, e.g.\n",
    "    #h.ax_marg_y.grid('on') # with ugly consequences...\n",
    "    # labels appear outside of plot area, so auto-adjust\n",
    "    plt.tight_layout()"
   ]
  },
  {
   "cell_type": "code",
   "execution_count": 14,
   "metadata": {},
   "outputs": [
    {
     "name": "stdout",
     "output_type": "stream",
     "text": [
      "SMC\n"
     ]
    },
    {
     "name": "stderr",
     "output_type": "stream",
     "text": [
      "/home/franciscoperez/anaconda3/lib/python3.7/site-packages/scipy/stats/stats.py:1713: FutureWarning: Using a non-tuple sequence for multidimensional indexing is deprecated; use `arr[tuple(seq)]` instead of `arr[seq]`. In the future this will be interpreted as an array index, `arr[np.array(seq)]`, which will result either in an error or a different result.\n",
      "  return np.add.reduce(sorted[indexer] * weights, axis=axis) / sumval\n"
     ]
    },
    {
     "name": "stdout",
     "output_type": "stream",
     "text": [
      "GD\n"
     ]
    },
    {
     "data": {
      "image/png": "[encoded data removed]",
      "text/plain": [
       "<Figure size 432x432 with 3 Axes>"
      ]
     },
     "metadata": {},
     "output_type": "display_data"
    },
    {
     "data": {
      "image/png": "[encoded data removed]",
      "text/plain": [
       "<Figure size 432x432 with 3 Axes>"
      ]
     },
     "metadata": {},
     "output_type": "display_data"
    }
   ],
   "source": [
    "lc_train = lc_train[lc_train['Class']=='RRLYR']\n",
    "for f in ['SMC',  'GD']:\n",
    "    lc= lc_train[lc_train['Field']==f]\n",
    "    print(f)\n",
    "    sns.set_style(\"white\")\n",
    "    h = sns.jointplot(x=lc['PeriodLS'], y=lc[\"Amplitude\"],kind='kde',  xlim=(0,1), \n",
    "                      ylim =(0, 0.5), color='black', bw=.04, kernel='triw', \n",
    "                      alpha=1, n_levels=3, gridsize=100,\n",
    "                      shade_lowest=False, shade=True)\n",
    "    h.set_axis_labels('x', 'y')\n",
    "    h.ax_joint.set_xlabel('Period')\n",
    "    h.ax_joint.set_ylabel('Amplitude')\n",
    "    plt.tight_layout()"
   ]
  },
  {
   "cell_type": "code",
   "execution_count": null,
   "metadata": {},
   "outputs": [],
   "source": []
  }
 ],
 "metadata": {
  "kernelspec": {
   "display_name": "Python 3",
   "language": "python",
   "name": "python3"
  },
  "language_info": {
   "codemirror_mode": {
    "name": "ipython",
    "version": 3
   },
   "file_extension": ".py",
   "mimetype": "text/x-python",
   "name": "python",
   "nbconvert_exporter": "python",
   "pygments_lexer": "ipython3",
   "version": "3.7.7"
  }
 },
 "nbformat": 4,
 "nbformat_minor": 2
}
