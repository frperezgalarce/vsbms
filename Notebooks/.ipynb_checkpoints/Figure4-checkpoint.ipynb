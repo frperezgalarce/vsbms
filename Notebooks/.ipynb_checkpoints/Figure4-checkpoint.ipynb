{
 "cells": [
  {
   "cell_type": "code",
   "execution_count": 1,
   "metadata": {},
   "outputs": [],
   "source": [
    "import pandas as pd\n",
    "import numpy as np\n",
    "import seaborn \n",
    "import matplotlib.pyplot as plt\n",
    "import matplotlib.lines as mlines\n",
    "from mpl_toolkits.mplot3d import Axes3D\n",
    "import matplotlib.pyplot as plt\n",
    "import matplotlib.ticker as ticker"
   ]
  },
  {
   "cell_type": "code",
   "execution_count": 10,
   "metadata": {},
   "outputs": [
    {
     "data": {
      "text/html": [
       "<div>\n",
       "<style scoped>\n",
       "    .dataframe tbody tr th:only-of-type {\n",
       "        vertical-align: middle;\n",
       "    }\n",
       "\n",
       "    .dataframe tbody tr th {\n",
       "        vertical-align: top;\n",
       "    }\n",
       "\n",
       "    .dataframe thead th {\n",
       "        text-align: right;\n",
       "    }\n",
       "</style>\n",
       "<table border=\"1\" class=\"dataframe\">\n",
       "  <thead>\n",
       "    <tr style=\"text-align: right;\">\n",
       "      <th></th>\n",
       "      <th>null</th>\n",
       "      <th>p</th>\n",
       "      <th>c</th>\n",
       "      <th>size</th>\n",
       "      <th>accTrain</th>\n",
       "      <th>accTest</th>\n",
       "      <th>f1Train</th>\n",
       "      <th>f1Test</th>\n",
       "      <th>model</th>\n",
       "    </tr>\n",
       "  </thead>\n",
       "  <tbody>\n",
       "    <tr>\n",
       "      <th>1</th>\n",
       "      <td>1</td>\n",
       "      <td>1</td>\n",
       "      <td>2</td>\n",
       "      <td>1000</td>\n",
       "      <td>0.902451</td>\n",
       "      <td>0.601712</td>\n",
       "      <td>0.903110</td>\n",
       "      <td>0.597323</td>\n",
       "      <td>LR(1,2)</td>\n",
       "    </tr>\n",
       "    <tr>\n",
       "      <th>6</th>\n",
       "      <td>6</td>\n",
       "      <td>1</td>\n",
       "      <td>4</td>\n",
       "      <td>1000</td>\n",
       "      <td>0.927461</td>\n",
       "      <td>0.621904</td>\n",
       "      <td>0.928012</td>\n",
       "      <td>0.613699</td>\n",
       "      <td>LR(1,4)</td>\n",
       "    </tr>\n",
       "    <tr>\n",
       "      <th>11</th>\n",
       "      <td>11</td>\n",
       "      <td>1</td>\n",
       "      <td>6</td>\n",
       "      <td>1000</td>\n",
       "      <td>0.944416</td>\n",
       "      <td>0.612472</td>\n",
       "      <td>0.944817</td>\n",
       "      <td>0.590014</td>\n",
       "      <td>LR(1,6)</td>\n",
       "    </tr>\n",
       "    <tr>\n",
       "      <th>16</th>\n",
       "      <td>16</td>\n",
       "      <td>1</td>\n",
       "      <td>8</td>\n",
       "      <td>1000</td>\n",
       "      <td>0.952677</td>\n",
       "      <td>0.605135</td>\n",
       "      <td>0.953022</td>\n",
       "      <td>0.571580</td>\n",
       "      <td>LR(1,8)</td>\n",
       "    </tr>\n",
       "    <tr>\n",
       "      <th>21</th>\n",
       "      <td>21</td>\n",
       "      <td>1</td>\n",
       "      <td>10</td>\n",
       "      <td>1000</td>\n",
       "      <td>0.957415</td>\n",
       "      <td>0.602725</td>\n",
       "      <td>0.957743</td>\n",
       "      <td>0.580648</td>\n",
       "      <td>LR(1,10)</td>\n",
       "    </tr>\n",
       "  </tbody>\n",
       "</table>\n",
       "</div>"
      ],
      "text/plain": [
       "    null  p   c  size  accTrain   accTest   f1Train    f1Test     model\n",
       "1      1  1   2  1000  0.902451  0.601712  0.903110  0.597323   LR(1,2)\n",
       "6      6  1   4  1000  0.927461  0.621904  0.928012  0.613699   LR(1,4)\n",
       "11    11  1   6  1000  0.944416  0.612472  0.944817  0.590014   LR(1,6)\n",
       "16    16  1   8  1000  0.952677  0.605135  0.953022  0.571580   LR(1,8)\n",
       "21    21  1  10  1000  0.957415  0.602725  0.957743  0.580648  LR(1,10)"
      ]
     },
     "execution_count": 10,
     "metadata": {},
     "output_type": "execute_result"
    }
   ],
   "source": [
    "data = pd.read_csv('results/BasicCVAllDatawhitoutpenalty.csv')\n",
    "data.columns = ['null','p', 'c', 'size', 'accTrain', 'accTest', \n",
    "                'f1Train', 'f1Test']\n",
    "data = data[data['size']==1000]\n",
    "data['model'] = 'LR('+data['p'].astype(str)+','+data['c'].astype(str)+')'\n",
    "data.head()"
   ]
  },
  {
   "cell_type": "code",
   "execution_count": 16,
   "metadata": {},
   "outputs": [
    {
     "data": {
      "image/png": "[encoded data removed]",
      "text/plain": [
       "<Figure size 1008x432 with 2 Axes>"
      ]
     },
     "metadata": {
      "needs_background": "light"
     },
     "output_type": "display_data"
    }
   ],
   "source": [
    "startLine = 0.5\n",
    "ordered_df = data.sort_values(by=['accTrain'], ascending=True)\n",
    "my_range=range(1,len(data.index)+1)\n",
    "plt.figure(figsize=(14,6)) \n",
    "plt.subplot(1, 2, 1)\n",
    "SMALL_SIZE = 11\n",
    "plt.rc('font', size=SMALL_SIZE)\n",
    "plt.rc('axes', titlesize=SMALL_SIZE)\n",
    "import seaborn as sns\n",
    "plt.hlines(y=my_range, xmin=startLine,\n",
    "           xmax=ordered_df['accTrain'], color='black')\n",
    "plt.plot(ordered_df['accTrain'], my_range, \"o\",color ='black')\n",
    "plt.xlabel('Accuracy in training')\n",
    "plt.ylabel('Models')\n",
    "plt.ylim(0, len(data.index)+2)\n",
    "plt.yticks([])\n",
    "plt.xlim(startLine, 1)\n",
    "\n",
    "plt.subplot(1, 2, 2)\n",
    "plt.hlines(y=my_range, xmin=startLine, \n",
    "           xmax=ordered_df['accTest'], color='black')\n",
    "plt.plot(ordered_df['accTest'], my_range, \"o\", color ='black')\n",
    "plt.xlabel('Accuracy in testing')\n",
    "#plt.ylabel('Model')\n",
    "plt.ylim(0, len(data.index)+2)\n",
    "plt.yticks([])\n",
    "plt.xlim(startLine, ordered_df['accTest'].max()+0.1)\n",
    "for j in range(ordered_df.shape[0]):\n",
    "    #print(j)\n",
    "    #print(ordered_df['model'].iloc[j])\n",
    "    plt.annotate(ordered_df['model'].iloc[j], xy=(ordered_df['accTest'].max()+0.05, j+1), \n",
    "                 xytext=(ordered_df['accTest'].max()+0.05, j+1))"
   ]
  },
  {
   "cell_type": "code",
   "execution_count": 19,
   "metadata": {},
   "outputs": [],
   "source": [
    "data = pd.read_csv('results/MarginalLikelihood_rrlyr1.csv')\n",
    "data.columns = ['a','b', 'c', 'd', 'e', 'f','g','h','i', 'j', 'l']\n"
   ]
  },
  {
   "cell_type": "code",
   "execution_count": 20,
   "metadata": {},
   "outputs": [],
   "source": [
    "del data['f']\n",
    "del data['g']"
   ]
  },
  {
   "cell_type": "code",
   "execution_count": 21,
   "metadata": {},
   "outputs": [
    {
     "data": {
      "text/html": [
       "<div>\n",
       "<style scoped>\n",
       "    .dataframe tbody tr th:only-of-type {\n",
       "        vertical-align: middle;\n",
       "    }\n",
       "\n",
       "    .dataframe tbody tr th {\n",
       "        vertical-align: top;\n",
       "    }\n",
       "\n",
       "    .dataframe thead th {\n",
       "        text-align: right;\n",
       "    }\n",
       "</style>\n",
       "<table border=\"1\" class=\"dataframe\">\n",
       "  <thead>\n",
       "    <tr style=\"text-align: right;\">\n",
       "      <th></th>\n",
       "      <th>a</th>\n",
       "      <th>b</th>\n",
       "      <th>c</th>\n",
       "      <th>d</th>\n",
       "      <th>e</th>\n",
       "      <th>h</th>\n",
       "      <th>i</th>\n",
       "      <th>j</th>\n",
       "      <th>l</th>\n",
       "      <th>model</th>\n",
       "    </tr>\n",
       "  </thead>\n",
       "  <tbody>\n",
       "    <tr>\n",
       "      <th>1</th>\n",
       "      <td>1</td>\n",
       "      <td>1</td>\n",
       "      <td>2</td>\n",
       "      <td>-1.794711</td>\n",
       "      <td>1000</td>\n",
       "      <td>0.503</td>\n",
       "      <td>0.514900</td>\n",
       "      <td>0.000000</td>\n",
       "      <td>0.000000</td>\n",
       "      <td>BLR(1,2)</td>\n",
       "    </tr>\n",
       "    <tr>\n",
       "      <th>5</th>\n",
       "      <td>5</td>\n",
       "      <td>1</td>\n",
       "      <td>4</td>\n",
       "      <td>-2.118817</td>\n",
       "      <td>1000</td>\n",
       "      <td>0.459</td>\n",
       "      <td>0.492367</td>\n",
       "      <td>0.084602</td>\n",
       "      <td>0.130765</td>\n",
       "      <td>BLR(1,4)</td>\n",
       "    </tr>\n",
       "    <tr>\n",
       "      <th>9</th>\n",
       "      <td>9</td>\n",
       "      <td>1</td>\n",
       "      <td>6</td>\n",
       "      <td>-2.300855</td>\n",
       "      <td>1000</td>\n",
       "      <td>0.442</td>\n",
       "      <td>0.482410</td>\n",
       "      <td>0.091205</td>\n",
       "      <td>0.167827</td>\n",
       "      <td>BLR(1,6)</td>\n",
       "    </tr>\n",
       "    <tr>\n",
       "      <th>13</th>\n",
       "      <td>13</td>\n",
       "      <td>1</td>\n",
       "      <td>8</td>\n",
       "      <td>-2.299112</td>\n",
       "      <td>1000</td>\n",
       "      <td>0.377</td>\n",
       "      <td>0.488594</td>\n",
       "      <td>0.126227</td>\n",
       "      <td>0.261589</td>\n",
       "      <td>BLR(1,8)</td>\n",
       "    </tr>\n",
       "    <tr>\n",
       "      <th>17</th>\n",
       "      <td>17</td>\n",
       "      <td>1</td>\n",
       "      <td>10</td>\n",
       "      <td>-2.231774</td>\n",
       "      <td>1000</td>\n",
       "      <td>0.318</td>\n",
       "      <td>0.480384</td>\n",
       "      <td>0.078378</td>\n",
       "      <td>0.244745</td>\n",
       "      <td>BLR(1,10)</td>\n",
       "    </tr>\n",
       "  </tbody>\n",
       "</table>\n",
       "</div>"
      ],
      "text/plain": [
       "     a  b   c         d     e      h         i         j         l      model\n",
       "1    1  1   2 -1.794711  1000  0.503  0.514900  0.000000  0.000000   BLR(1,2)\n",
       "5    5  1   4 -2.118817  1000  0.459  0.492367  0.084602  0.130765   BLR(1,4)\n",
       "9    9  1   6 -2.300855  1000  0.442  0.482410  0.091205  0.167827   BLR(1,6)\n",
       "13  13  1   8 -2.299112  1000  0.377  0.488594  0.126227  0.261589   BLR(1,8)\n",
       "17  17  1  10 -2.231774  1000  0.318  0.480384  0.078378  0.244745  BLR(1,10)"
      ]
     },
     "execution_count": 21,
     "metadata": {},
     "output_type": "execute_result"
    }
   ],
   "source": [
    "data = data[data['e']==1000]\n",
    "data['model'] = 'BLR('+data['b'].astype(str)+','+data['c'].astype(str)+')'\n",
    "data.head()"
   ]
  },
  {
   "cell_type": "code",
   "execution_count": 22,
   "metadata": {},
   "outputs": [
    {
     "data": {
      "image/png": "[encoded data removed]",
      "text/plain": [
       "<Figure size 1008x432 with 2 Axes>"
      ]
     },
     "metadata": {
      "needs_background": "light"
     },
     "output_type": "display_data"
    }
   ],
   "source": [
    "startLine = data['d'].min()\n",
    "ordered_df = data.sort_values(by=['d'], ascending=True)\n",
    "my_range=range(1,len(data.index)+1)\n",
    "plt.figure(figsize=(14,6)) \n",
    "plt.subplot(1, 2, 1)\n",
    "SMALL_SIZE = 11\n",
    "plt.rc('font', size=SMALL_SIZE)\n",
    "plt.rc('axes', titlesize=SMALL_SIZE)\n",
    "import seaborn as sns\n",
    "plt.hlines(y=my_range, xmin=startLine,\n",
    "           xmax=ordered_df['d'], color='black')\n",
    "plt.plot(ordered_df['d'], my_range, \"o\",color ='black')\n",
    "plt.xlabel('Marginal Likelihood')\n",
    "plt.ylabel('Models')\n",
    "plt.ylim(0, len(data.index)+2)\n",
    "plt.yticks([])\n",
    "#plt.xlim(startLine, 1)\n",
    "\n",
    "plt.subplot(1, 2, 2)\n",
    "plt.hlines(y=my_range, xmin=ordered_df['j'].min(), \n",
    "           xmax=ordered_df['i'], color='black')\n",
    "plt.plot(ordered_df['i'], my_range, \"o\", color ='black')\n",
    "plt.xlabel('Accuracy in testing')\n",
    "#plt.ylabel('Model')\n",
    "plt.ylim(0, len(data.index)+2)\n",
    "plt.yticks([])\n",
    "plt.xlim(0.4, .7)\n",
    "for j in range(ordered_df.shape[0]):\n",
    "    #print(j)\n",
    "    #print(ordered_df['model'].iloc[j])\n",
    "    plt.annotate(ordered_df['model'].iloc[j], xy=(0.6, j+1), xytext=(0.6, j+1))"
   ]
  },
  {
   "cell_type": "code",
   "execution_count": null,
   "metadata": {},
   "outputs": [],
   "source": []
  },
  {
   "cell_type": "code",
   "execution_count": null,
   "metadata": {},
   "outputs": [],
   "source": []
  },
  {
   "cell_type": "code",
   "execution_count": null,
   "metadata": {},
   "outputs": [],
   "source": []
  },
  {
   "cell_type": "code",
   "execution_count": null,
   "metadata": {},
   "outputs": [],
   "source": []
  },
  {
   "cell_type": "code",
   "execution_count": null,
   "metadata": {},
   "outputs": [],
   "source": []
  },
  {
   "cell_type": "code",
   "execution_count": null,
   "metadata": {},
   "outputs": [],
   "source": []
  },
  {
   "cell_type": "code",
   "execution_count": null,
   "metadata": {},
   "outputs": [],
   "source": []
  },
  {
   "cell_type": "code",
   "execution_count": null,
   "metadata": {},
   "outputs": [],
   "source": []
  },
  {
   "cell_type": "code",
   "execution_count": null,
   "metadata": {},
   "outputs": [],
   "source": []
  },
  {
   "cell_type": "code",
   "execution_count": null,
   "metadata": {},
   "outputs": [],
   "source": []
  },
  {
   "cell_type": "code",
   "execution_count": null,
   "metadata": {},
   "outputs": [],
   "source": []
  },
  {
   "cell_type": "code",
   "execution_count": null,
   "metadata": {},
   "outputs": [],
   "source": []
  },
  {
   "cell_type": "code",
   "execution_count": null,
   "metadata": {},
   "outputs": [],
   "source": []
  },
  {
   "cell_type": "code",
   "execution_count": null,
   "metadata": {},
   "outputs": [],
   "source": []
  },
  {
   "cell_type": "code",
   "execution_count": null,
   "metadata": {},
   "outputs": [],
   "source": []
  },
  {
   "cell_type": "code",
   "execution_count": null,
   "metadata": {},
   "outputs": [],
   "source": []
  },
  {
   "cell_type": "code",
   "execution_count": null,
   "metadata": {},
   "outputs": [],
   "source": []
  },
  {
   "cell_type": "code",
   "execution_count": null,
   "metadata": {},
   "outputs": [],
   "source": []
  },
  {
   "cell_type": "code",
   "execution_count": null,
   "metadata": {},
   "outputs": [],
   "source": []
  },
  {
   "cell_type": "code",
   "execution_count": null,
   "metadata": {},
   "outputs": [],
   "source": []
  },
  {
   "cell_type": "code",
   "execution_count": null,
   "metadata": {},
   "outputs": [],
   "source": []
  },
  {
   "cell_type": "code",
   "execution_count": null,
   "metadata": {},
   "outputs": [],
   "source": []
  },
  {
   "cell_type": "code",
   "execution_count": null,
   "metadata": {},
   "outputs": [],
   "source": []
  },
  {
   "cell_type": "code",
   "execution_count": null,
   "metadata": {},
   "outputs": [],
   "source": []
  }
 ],
 "metadata": {
  "kernelspec": {
   "display_name": "Python 3",
   "language": "python",
   "name": "python3"
  },
  "language_info": {
   "codemirror_mode": {
    "name": "ipython",
    "version": 3
   },
   "file_extension": ".py",
   "mimetype": "text/x-python",
   "name": "python",
   "nbconvert_exporter": "python",
   "pygments_lexer": "ipython3",
   "version": "3.7.3"
  }
 },
 "nbformat": 4,
 "nbformat_minor": 4
}
