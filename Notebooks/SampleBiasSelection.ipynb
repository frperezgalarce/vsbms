{
 "cells": [
  {
   "cell_type": "code",
   "execution_count": 76,
   "metadata": {
    "collapsed": true
   },
   "outputs": [],
   "source": [
    "%matplotlib inline\n",
    "import pandas as pd\n",
    "from sklearn.model_selection import train_test_split\n",
    "from sklearn.metrics import confusion_matrix, accuracy_score\n",
    "from sklearn.model_selection import LeaveOneOut\n",
    "from sklearn.ensemble import RandomForestClassifier\n",
    "import  sklearn.linear_model as linearModel\n",
    "from sklearn.decomposition import PCA\n",
    "from sklearn import preprocessing\n",
    "import numpy as np\n",
    "import seaborn \n",
    "import matplotlib.pyplot as plt\n",
    "from warnings import filterwarnings\n",
    "filterwarnings('ignore')\n",
    "import timeit\n",
    "import pymc3 as pm\n",
    "import matplotlib.lines as mlines\n",
    "from sklearn import svm\n",
    "np.random.seed(1)\n",
    "from itertools import product, combinations"
   ]
  },
  {
   "cell_type": "code",
   "execution_count": null,
   "metadata": {
    "collapsed": true
   },
   "outputs": [],
   "source": [
    "import bridgeSampling as bs  # it contains a method to estimate the marginal likelihood according to the Bridge Sampling approach\n",
    "import utilFunctions as ut   # it has different methods to handle and plot data \n",
    "import BayesianModels as bm  # it has methods to build and train bayesian model (Logistic Regression and Neural Nets) \n",
    "import experiments as exp "
   ]
  },
  {
   "cell_type": "code",
   "execution_count": null,
   "metadata": {},
   "outputs": [
    {
     "name": "stdout",
     "output_type": "stream",
     "text": [
      "Running GAIA\n"
     ]
    }
   ],
   "source": [
    "Data, ID, Class_col, Classes = ut.initialize_data(survey='GAIA', sepColumns_=',', sepHeader_=',')\n"
   ]
  },
  {
   "cell_type": "code",
   "execution_count": null,
   "metadata": {
    "collapsed": true
   },
   "outputs": [],
   "source": [
    "Data[Class_col].value_counts()"
   ]
  },
  {
   "cell_type": "code",
   "execution_count": null,
   "metadata": {
    "collapsed": true
   },
   "outputs": [],
   "source": [
    "Data.columns"
   ]
  },
  {
   "cell_type": "code",
   "execution_count": null,
   "metadata": {
    "collapsed": true
   },
   "outputs": [],
   "source": [
    "def sampleBiasSelection(Data, **kwargs):\n",
    "      \n",
    "    Data = Data[(Data[kwargs['name_class_col']] == kwargs['class_1']) | \n",
    "          (Data[kwargs['name_class_col']] == kwargs['class_2'])]  \n",
    "    \n",
    "    label = 1*(Data[kwargs['name_class_col']] == kwargs['class_1'])\n",
    "    DataBiased = Data.copy()\n",
    "    \n",
    "    del DataBiased[kwargs['name_class_col']]\n",
    "    del DataBiased[kwargs['id_col']]\n",
    "\n",
    "    clf = RandomForestClassifier(max_depth=kwargs['deep_Max'], random_state=0)\n",
    "\n",
    "    try:\n",
    "        DataBiased = DataBiased.replace('\\n', '', regex = True).replace('null', '0.0', regex = True).apply(pd.to_numeric, errors ='ignore')\n",
    "    except:\n",
    "        print('Error in replace')\n",
    "\n",
    "    clf.fit(DataBiased, label)\n",
    "\n",
    "    Pred2 =  clf.predict_proba(DataBiased)\n",
    "    Pred =  clf.predict(DataBiased)\n",
    "    print('Acc:', accuracy_score(Pred, label))\n",
    "\n",
    "    Data['Pred'] = Pred2[:,0].tolist()\n",
    "    Data['Pred2'] = Pred2[:,1].tolist()\n",
    "    \n",
    "    Data['h'] = 1 -  Data['Pred']*Data['Pred'] - Data['Pred2']*Data['Pred2']\n",
    "    factor = kwargs['T']*Data['h']\n",
    "    Data['e'] = np.exp(-factor)\n",
    "    Data['u'] = np.random.uniform(0, 1, Data.shape[0])\n",
    "    \n",
    "    #print(Data['e'])\n",
    "    #print(factor)\n",
    "    #print(Data['u'])\n",
    "  \n",
    "    Data_test  = Data[(Data['e']<= Data['u'])]\n",
    "    Data_train = Data[(Data['e']> Data['u'])]\n",
    "\n",
    "    \n",
    "    label_train = Data_train[kwargs['name_class_col']]\n",
    "    label_test = Data_test[kwargs['name_class_col']]\n",
    "    del Data_train[kwargs['name_class_col']]\n",
    "    del Data_test[kwargs['name_class_col']] \n",
    "\n",
    "    print('Shape training: ', Data_train.shape)\n",
    "    print('Shape testing: ', Data_test.shape)\n",
    "    return Data_train, Data_test, label_train, label_test"
   ]
  },
  {
   "cell_type": "code",
   "execution_count": null,
   "metadata": {
    "collapsed": true
   },
   "outputs": [],
   "source": [
    "kwargs = {\n",
    "          \"name_class_col\": 'Class', \n",
    "          \"class_1\" : 'RRAB', \n",
    "          \"class_2\": 'RRC',\n",
    "           \"id_col\" : 'ID',\n",
    "           \"deep_Max\" : 5, \n",
    "           \"T\": 2\n",
    "        }"
   ]
  },
  {
   "cell_type": "code",
   "execution_count": null,
   "metadata": {
    "collapsed": true
   },
   "outputs": [],
   "source": [
    "Data_train, Data_test, label_train, label_test = sampleBiasSelection(Data, **kwargs)"
   ]
  },
  {
   "cell_type": "code",
   "execution_count": null,
   "metadata": {
    "collapsed": true
   },
   "outputs": [],
   "source": [
    "Data_test.Pred.hist()"
   ]
  },
  {
   "cell_type": "code",
   "execution_count": null,
   "metadata": {
    "collapsed": true
   },
   "outputs": [],
   "source": [
    "Data_train.Pred.hist()"
   ]
  },
  {
   "cell_type": "code",
   "execution_count": null,
   "metadata": {
    "collapsed": true
   },
   "outputs": [],
   "source": [
    "#sets up the axis and gets histogram data\n",
    "x = Data_train.Pred\n",
    "y = Data_test.Pred\n",
    "x_w = np.empty(x.shape)\n",
    "x_w.fill(1/x.shape[0])\n",
    "y_w = np.empty(y.shape)\n",
    "y_w.fill(1/y.shape[0])\n",
    "bins = np.linspace(0, 1, 10)\n",
    "plt.hist([x, y], bins, weights=[x_w, y_w], label=['training set', 'testing set'])\n",
    "plt.legend(loc='upper right')\n",
    "plt.xlabel('soft predict')\n",
    "plt.ylabel('normalized frequency')\n",
    "plt.show()"
   ]
  },
  {
   "cell_type": "code",
   "execution_count": null,
   "metadata": {
    "collapsed": true
   },
   "outputs": [],
   "source": [
    "Data_train.to_csv('Train_GAIA_RR.csv')"
   ]
  },
  {
   "cell_type": "code",
   "execution_count": null,
   "metadata": {
    "collapsed": true
   },
   "outputs": [],
   "source": [
    "Data_test.to_csv('Test_GAIA_RR.csv')"
   ]
  },
  {
   "cell_type": "code",
   "execution_count": null,
   "metadata": {
    "collapsed": true
   },
   "outputs": [],
   "source": []
  }
 ],
 "metadata": {
  "kernelspec": {
   "display_name": "Python 3",
   "language": "python",
   "name": "python3"
  },
  "language_info": {
   "codemirror_mode": {
    "name": "ipython",
    "version": 3
   },
   "file_extension": ".py",
   "mimetype": "text/x-python",
   "name": "python",
   "nbconvert_exporter": "python",
   "pygments_lexer": "ipython3",
   "version": "3.6.6"
  }
 },
 "nbformat": 4,
 "nbformat_minor": 2
}
