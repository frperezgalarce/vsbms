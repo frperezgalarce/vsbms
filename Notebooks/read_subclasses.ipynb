{
 "cells": [
  {
   "cell_type": "code",
   "execution_count": 13,
   "metadata": {},
   "outputs": [],
   "source": [
    "import pandas as pd\n",
    "import numpy as np\n",
    "import matplotlib.pyplot as plt\n",
    "import seaborn as sns"
   ]
  },
  {
   "cell_type": "code",
   "execution_count": 14,
   "metadata": {},
   "outputs": [
    {
     "data": {
      "text/html": [
       "<div>\n",
       "<style scoped>\n",
       "    .dataframe tbody tr th:only-of-type {\n",
       "        vertical-align: middle;\n",
       "    }\n",
       "\n",
       "    .dataframe tbody tr th {\n",
       "        vertical-align: top;\n",
       "    }\n",
       "\n",
       "    .dataframe thead th {\n",
       "        text-align: right;\n",
       "    }\n",
       "</style>\n",
       "<table border=\"1\" class=\"dataframe\">\n",
       "  <thead>\n",
       "    <tr style=\"text-align: right;\">\n",
       "      <th></th>\n",
       "      <th>ID</th>\n",
       "      <th>field_a</th>\n",
       "      <th>field_b</th>\n",
       "      <th>sub_clase</th>\n",
       "      <th>ccx</th>\n",
       "      <th>ccy</th>\n",
       "    </tr>\n",
       "  </thead>\n",
       "  <tbody>\n",
       "    <tr>\n",
       "      <th>0</th>\n",
       "      <td>OGLE-BLG-RRLYR-00001</td>\n",
       "      <td>BLG366.6</td>\n",
       "      <td>56455</td>\n",
       "      <td>RRab</td>\n",
       "      <td>17:05:07.49</td>\n",
       "      <td>-32:37:57.2</td>\n",
       "    </tr>\n",
       "    <tr>\n",
       "      <th>1</th>\n",
       "      <td>OGLE-BLG-RRLYR-00002</td>\n",
       "      <td>BLG366.8</td>\n",
       "      <td>59262</td>\n",
       "      <td>RRc</td>\n",
       "      <td>17:05:08.09</td>\n",
       "      <td>-32:56:38.1</td>\n",
       "    </tr>\n",
       "    <tr>\n",
       "      <th>2</th>\n",
       "      <td>OGLE-BLG-RRLYR-00003</td>\n",
       "      <td>BLG366.6</td>\n",
       "      <td>56524</td>\n",
       "      <td>RRab</td>\n",
       "      <td>17:05:09.88</td>\n",
       "      <td>-32:39:52.8</td>\n",
       "    </tr>\n",
       "    <tr>\n",
       "      <th>3</th>\n",
       "      <td>OGLE-BLG-RRLYR-00004</td>\n",
       "      <td>BLG366.7</td>\n",
       "      <td>31697</td>\n",
       "      <td>RRab</td>\n",
       "      <td>17:05:15.22</td>\n",
       "      <td>-32:50:13.2</td>\n",
       "    </tr>\n",
       "    <tr>\n",
       "      <th>4</th>\n",
       "      <td>OGLE-BLG-RRLYR-00005</td>\n",
       "      <td>BLG366.6</td>\n",
       "      <td>59764</td>\n",
       "      <td>RRab</td>\n",
       "      <td>17:05:21.99</td>\n",
       "      <td>-32:39:42.5</td>\n",
       "    </tr>\n",
       "  </tbody>\n",
       "</table>\n",
       "</div>"
      ],
      "text/plain": [
       "                     ID   field_a field_b sub_clase          ccx          ccy\n",
       "0  OGLE-BLG-RRLYR-00001  BLG366.6   56455      RRab  17:05:07.49  -32:37:57.2\n",
       "1  OGLE-BLG-RRLYR-00002  BLG366.8   59262       RRc  17:05:08.09  -32:56:38.1\n",
       "2  OGLE-BLG-RRLYR-00003  BLG366.6   56524      RRab  17:05:09.88  -32:39:52.8\n",
       "3  OGLE-BLG-RRLYR-00004  BLG366.7   31697      RRab  17:05:15.22  -32:50:13.2\n",
       "4  OGLE-BLG-RRLYR-00005  BLG366.6   59764      RRab  17:05:21.99  -32:39:42.5"
      ]
     },
     "execution_count": 14,
     "metadata": {},
     "output_type": "execute_result"
    }
   ],
   "source": [
    "datContent = [i.strip().split() for i in open(\"subclasses/ident1.dat\").readlines()]\n",
    "\n",
    "data = pd.DataFrame(datContent)\n",
    "data.columns = ['ID', 'field_a','field_b', 'sub_clase', 'ccx', 'ccy', 'd', 'e', 'f', 'g' ]\n",
    "data=data[['ID', 'field_a','field_b', 'sub_clase', 'ccx', 'ccy']]\n",
    "data.head()"
   ]
  },
  {
   "cell_type": "code",
   "execution_count": 15,
   "metadata": {},
   "outputs": [
    {
     "data": {
      "text/html": [
       "<div>\n",
       "<style scoped>\n",
       "    .dataframe tbody tr th:only-of-type {\n",
       "        vertical-align: middle;\n",
       "    }\n",
       "\n",
       "    .dataframe tbody tr th {\n",
       "        vertical-align: top;\n",
       "    }\n",
       "\n",
       "    .dataframe thead th {\n",
       "        text-align: right;\n",
       "    }\n",
       "</style>\n",
       "<table border=\"1\" class=\"dataframe\">\n",
       "  <thead>\n",
       "    <tr style=\"text-align: right;\">\n",
       "      <th></th>\n",
       "      <th>ID</th>\n",
       "      <th>field_a</th>\n",
       "      <th>field_b</th>\n",
       "      <th>sub_clase</th>\n",
       "      <th>ccx</th>\n",
       "      <th>ccy</th>\n",
       "    </tr>\n",
       "  </thead>\n",
       "  <tbody>\n",
       "    <tr>\n",
       "      <th>0</th>\n",
       "      <td>OGLE-GD-RRLYR-0001</td>\n",
       "      <td>CAR116.6</td>\n",
       "      <td>22422</td>\n",
       "      <td>RRab</td>\n",
       "      <td>10:35:56.14</td>\n",
       "      <td>-62:38:40.7</td>\n",
       "    </tr>\n",
       "    <tr>\n",
       "      <th>1</th>\n",
       "      <td>OGLE-GD-RRLYR-0002</td>\n",
       "      <td>CAR116.5</td>\n",
       "      <td>6364</td>\n",
       "      <td>RRab</td>\n",
       "      <td>10:36:11.99</td>\n",
       "      <td>-62:34:50.0</td>\n",
       "    </tr>\n",
       "    <tr>\n",
       "      <th>2</th>\n",
       "      <td>OGLE-GD-RRLYR-0003</td>\n",
       "      <td>CAR116.5</td>\n",
       "      <td>18588</td>\n",
       "      <td>RRab</td>\n",
       "      <td>10:36:26.73</td>\n",
       "      <td>-62:31:08.3</td>\n",
       "    </tr>\n",
       "    <tr>\n",
       "      <th>3</th>\n",
       "      <td>OGLE-GD-RRLYR-0004</td>\n",
       "      <td>CAR116.4</td>\n",
       "      <td>23384</td>\n",
       "      <td>RRab</td>\n",
       "      <td>10:38:02.16</td>\n",
       "      <td>-62:30:59.3</td>\n",
       "    </tr>\n",
       "    <tr>\n",
       "      <th>4</th>\n",
       "      <td>OGLE-GD-RRLYR-0005</td>\n",
       "      <td>CAR109.5</td>\n",
       "      <td>11088</td>\n",
       "      <td>RRab</td>\n",
       "      <td>10:40:12.80</td>\n",
       "      <td>-61:58:24.8</td>\n",
       "    </tr>\n",
       "  </tbody>\n",
       "</table>\n",
       "</div>"
      ],
      "text/plain": [
       "                   ID   field_a field_b sub_clase          ccx          ccy\n",
       "0  OGLE-GD-RRLYR-0001  CAR116.6   22422      RRab  10:35:56.14  -62:38:40.7\n",
       "1  OGLE-GD-RRLYR-0002  CAR116.5    6364      RRab  10:36:11.99  -62:34:50.0\n",
       "2  OGLE-GD-RRLYR-0003  CAR116.5   18588      RRab  10:36:26.73  -62:31:08.3\n",
       "3  OGLE-GD-RRLYR-0004  CAR116.4   23384      RRab  10:38:02.16  -62:30:59.3\n",
       "4  OGLE-GD-RRLYR-0005  CAR109.5   11088      RRab  10:40:12.80  -61:58:24.8"
      ]
     },
     "execution_count": 15,
     "metadata": {},
     "output_type": "execute_result"
    }
   ],
   "source": [
    "datContent = [i.strip().split() for i in open(\"subclasses/ident2.dat\").readlines()]\n",
    "\n",
    "data2 = pd.DataFrame(datContent)\n",
    "data2.columns = ['ID', 'field_a','field_b', 'sub_clase', 'ccx', 'ccy']\n",
    "data = data.append(data2)\n",
    "data2.head()"
   ]
  },
  {
   "cell_type": "code",
   "execution_count": 16,
   "metadata": {},
   "outputs": [
    {
     "data": {
      "text/html": [
       "<div>\n",
       "<style scoped>\n",
       "    .dataframe tbody tr th:only-of-type {\n",
       "        vertical-align: middle;\n",
       "    }\n",
       "\n",
       "    .dataframe tbody tr th {\n",
       "        vertical-align: top;\n",
       "    }\n",
       "\n",
       "    .dataframe thead th {\n",
       "        text-align: right;\n",
       "    }\n",
       "</style>\n",
       "<table border=\"1\" class=\"dataframe\">\n",
       "  <thead>\n",
       "    <tr style=\"text-align: right;\">\n",
       "      <th></th>\n",
       "      <th>ID</th>\n",
       "      <th>field_a</th>\n",
       "      <th>field_b</th>\n",
       "      <th>sub_clase</th>\n",
       "      <th>ccx</th>\n",
       "      <th>ccy</th>\n",
       "    </tr>\n",
       "  </thead>\n",
       "  <tbody>\n",
       "    <tr>\n",
       "      <th>0</th>\n",
       "      <td>OGLE-LMC-RRLYR-00001</td>\n",
       "      <td>LMC158.8</td>\n",
       "      <td>216</td>\n",
       "      <td>RRab</td>\n",
       "      <td>04:27:45.47</td>\n",
       "      <td>-70:43:12.0</td>\n",
       "    </tr>\n",
       "    <tr>\n",
       "      <th>1</th>\n",
       "      <td>OGLE-LMC-RRLYR-00002</td>\n",
       "      <td>LMC158.5</td>\n",
       "      <td>211</td>\n",
       "      <td>RRab</td>\n",
       "      <td>04:27:58.46</td>\n",
       "      <td>-70:10:59.4</td>\n",
       "    </tr>\n",
       "    <tr>\n",
       "      <th>2</th>\n",
       "      <td>OGLE-LMC-RRLYR-00003</td>\n",
       "      <td>LMC158.6</td>\n",
       "      <td>247</td>\n",
       "      <td>RRab</td>\n",
       "      <td>04:28:08.50</td>\n",
       "      <td>-70:21:22.8</td>\n",
       "    </tr>\n",
       "    <tr>\n",
       "      <th>3</th>\n",
       "      <td>OGLE-LMC-RRLYR-00004</td>\n",
       "      <td>LMC158.6</td>\n",
       "      <td>271</td>\n",
       "      <td>RRab</td>\n",
       "      <td>04:28:19.31</td>\n",
       "      <td>-70:22:12.0</td>\n",
       "    </tr>\n",
       "    <tr>\n",
       "      <th>4</th>\n",
       "      <td>OGLE-LMC-RRLYR-00005</td>\n",
       "      <td>LMC158.5</td>\n",
       "      <td>262</td>\n",
       "      <td>RRab</td>\n",
       "      <td>04:28:21.07</td>\n",
       "      <td>-70:08:54.4</td>\n",
       "    </tr>\n",
       "  </tbody>\n",
       "</table>\n",
       "</div>"
      ],
      "text/plain": [
       "                     ID   field_a field_b sub_clase          ccx          ccy\n",
       "0  OGLE-LMC-RRLYR-00001  LMC158.8     216      RRab  04:27:45.47  -70:43:12.0\n",
       "1  OGLE-LMC-RRLYR-00002  LMC158.5     211      RRab  04:27:58.46  -70:10:59.4\n",
       "2  OGLE-LMC-RRLYR-00003  LMC158.6     247      RRab  04:28:08.50  -70:21:22.8\n",
       "3  OGLE-LMC-RRLYR-00004  LMC158.6     271      RRab  04:28:19.31  -70:22:12.0\n",
       "4  OGLE-LMC-RRLYR-00005  LMC158.5     262      RRab  04:28:21.07  -70:08:54.4"
      ]
     },
     "execution_count": 16,
     "metadata": {},
     "output_type": "execute_result"
    }
   ],
   "source": [
    "datContent = [i.strip().split() for i in open(\"subclasses/ident3.dat\").readlines()]\n",
    "\n",
    "data3 = pd.DataFrame(datContent)\n",
    "data3.columns = ['ID', 'field_a','field_b', 'sub_clase', 'ccx', 'ccy', 'd', 'e', 'f', 'g' ,'k']\n",
    "data3=data3[['ID', 'field_a','field_b', 'sub_clase', 'ccx', 'ccy']]\n",
    "data = data.append(data3)\n",
    "data3.head()"
   ]
  },
  {
   "cell_type": "code",
   "execution_count": 17,
   "metadata": {},
   "outputs": [
    {
     "data": {
      "text/html": [
       "<div>\n",
       "<style scoped>\n",
       "    .dataframe tbody tr th:only-of-type {\n",
       "        vertical-align: middle;\n",
       "    }\n",
       "\n",
       "    .dataframe tbody tr th {\n",
       "        vertical-align: top;\n",
       "    }\n",
       "\n",
       "    .dataframe thead th {\n",
       "        text-align: right;\n",
       "    }\n",
       "</style>\n",
       "<table border=\"1\" class=\"dataframe\">\n",
       "  <thead>\n",
       "    <tr style=\"text-align: right;\">\n",
       "      <th></th>\n",
       "      <th>ID</th>\n",
       "      <th>field_a</th>\n",
       "      <th>field_b</th>\n",
       "      <th>sub_clase</th>\n",
       "      <th>ccx</th>\n",
       "      <th>ccy</th>\n",
       "    </tr>\n",
       "  </thead>\n",
       "  <tbody>\n",
       "    <tr>\n",
       "      <th>0</th>\n",
       "      <td>OGLE-SMC-RRLYR-0001</td>\n",
       "      <td>SMC139.8</td>\n",
       "      <td>421</td>\n",
       "      <td>RRab</td>\n",
       "      <td>00:19:54.74</td>\n",
       "      <td>-74:42:04.2</td>\n",
       "    </tr>\n",
       "    <tr>\n",
       "      <th>1</th>\n",
       "      <td>OGLE-SMC-RRLYR-0002</td>\n",
       "      <td>SMC139.7</td>\n",
       "      <td>194</td>\n",
       "      <td>RRab</td>\n",
       "      <td>00:19:54.78</td>\n",
       "      <td>-74:33:30.8</td>\n",
       "    </tr>\n",
       "    <tr>\n",
       "      <th>2</th>\n",
       "      <td>OGLE-SMC-RRLYR-0003</td>\n",
       "      <td>SMC140.6</td>\n",
       "      <td>43095</td>\n",
       "      <td>RRab</td>\n",
       "      <td>00:20:17.08</td>\n",
       "      <td>-71:57:26.5</td>\n",
       "    </tr>\n",
       "    <tr>\n",
       "      <th>3</th>\n",
       "      <td>OGLE-SMC-RRLYR-0004</td>\n",
       "      <td>SMC139.8</td>\n",
       "      <td>477</td>\n",
       "      <td>RRd</td>\n",
       "      <td>00:20:21.11</td>\n",
       "      <td>-74:46:56.1</td>\n",
       "    </tr>\n",
       "    <tr>\n",
       "      <th>4</th>\n",
       "      <td>OGLE-SMC-RRLYR-0005</td>\n",
       "      <td>SMC139.6</td>\n",
       "      <td>562</td>\n",
       "      <td>RRab</td>\n",
       "      <td>00:20:21.85</td>\n",
       "      <td>-74:22:59.6</td>\n",
       "    </tr>\n",
       "  </tbody>\n",
       "</table>\n",
       "</div>"
      ],
      "text/plain": [
       "                    ID   field_a field_b sub_clase          ccx          ccy\n",
       "0  OGLE-SMC-RRLYR-0001  SMC139.8     421      RRab  00:19:54.74  -74:42:04.2\n",
       "1  OGLE-SMC-RRLYR-0002  SMC139.7     194      RRab  00:19:54.78  -74:33:30.8\n",
       "2  OGLE-SMC-RRLYR-0003  SMC140.6   43095      RRab  00:20:17.08  -71:57:26.5\n",
       "3  OGLE-SMC-RRLYR-0004  SMC139.8     477       RRd  00:20:21.11  -74:46:56.1\n",
       "4  OGLE-SMC-RRLYR-0005  SMC139.6     562      RRab  00:20:21.85  -74:22:59.6"
      ]
     },
     "execution_count": 17,
     "metadata": {},
     "output_type": "execute_result"
    }
   ],
   "source": [
    "datContent = [i.strip().split() for i in open(\"subclasses/ident4.dat\").readlines()]\n",
    "\n",
    "data4 = pd.DataFrame(datContent)\n",
    "data4.columns = ['ID', 'field_a','field_b', 'sub_clase', 'ccx', 'ccy', 'd', 'e', 'f', 'g' ]\n",
    "data4=data4[['ID', 'field_a','field_b', 'sub_clase', 'ccx', 'ccy']]\n",
    "data = data.append(data4)\n",
    "data4.head()"
   ]
  },
  {
   "cell_type": "code",
   "execution_count": 18,
   "metadata": {},
   "outputs": [],
   "source": [
    "data = data[data.sub_clase.isin(['RRab', 'RRd', 'RRc', 'RRe'])]"
   ]
  },
  {
   "cell_type": "code",
   "execution_count": 19,
   "metadata": {},
   "outputs": [
    {
     "name": "stderr",
     "output_type": "stream",
     "text": [
      "/home/franciscoperez/anaconda3/lib/python3.7/site-packages/ipykernel_launcher.py:3: FutureWarning: read_table is deprecated, use read_csv instead.\n",
      "  This is separate from the ipykernel package so we can avoid doing imports until\n",
      "/home/franciscoperez/anaconda3/lib/python3.7/site-packages/ipykernel_launcher.py:4: FutureWarning: read_table is deprecated, use read_csv instead.\n",
      "  after removing the cwd from sys.path.\n"
     ]
    }
   ],
   "source": [
    "path_train = '/home/franciscoperez/Documents/GitHub/data/BIASEDFATS/Train_rrlyr-1.csv'\n",
    "path_test = '/home/franciscoperez/Documents/GitHub/data/BIASEDFATS/Test_rrlyr-1.csv'\n",
    "lc_test = pd.read_table(path_test, sep= ',')\n",
    "lc_train = pd.read_table(path_train, sep= ',')"
   ]
  },
  {
   "cell_type": "code",
   "execution_count": 20,
   "metadata": {},
   "outputs": [],
   "source": [
    "lc_train['ID'] = lc_train['ID'].str.replace('.dat', '') \n",
    "lc_test['ID'] = lc_test['ID'].str.replace('.dat', '') "
   ]
  },
  {
   "cell_type": "code",
   "execution_count": 106,
   "metadata": {},
   "outputs": [],
   "source": [
    "#data = pd.read_table(\"/home/franciscoperez/Desktop/Code/Marginal_likelihood/data/FATS/OGLE_FATS_12022019.csv\", sep= ',')"
   ]
  },
  {
   "cell_type": "code",
   "execution_count": 21,
   "metadata": {},
   "outputs": [],
   "source": [
    "\n",
    "lc_train = lc_train.merge(data, left_on='ID', right_on='ID')\n",
    "lc_test = lc_test.merge(data, left_on='ID', right_on='ID')\n"
   ]
  },
  {
   "cell_type": "code",
   "execution_count": 13,
   "metadata": {},
   "outputs": [],
   "source": [
    "#train_subclase.sub_clase.unique()"
   ]
  },
  {
   "cell_type": "code",
   "execution_count": 22,
   "metadata": {},
   "outputs": [],
   "source": [
    "new_train = lc_train['ID'].str.split(\"-\", n = 3, expand = True) \n",
    "new_test = lc_test['ID'].str.split(\"-\", n = 3, expand = True) \n",
    "new_data = data['ID'].str.split(\"-\", n = 3, expand = True) \n",
    "lc_train[\"Field\"]= new_train[1] \n",
    "lc_train['Class']= new_train[2]  \n",
    "lc_test[\"Field\"]= new_test[1] \n",
    "lc_test['Class']= new_test[2] "
   ]
  },
  {
   "cell_type": "code",
   "execution_count": 21,
   "metadata": {},
   "outputs": [
    {
     "name": "stdout",
     "output_type": "stream",
     "text": [
      "(550, 78)\n"
     ]
    },
    {
     "data": {
      "text/plain": [
       "<matplotlib.axes._subplots.AxesSubplot at 0x7f74260a01d0>"
      ]
     },
     "execution_count": 21,
     "metadata": {},
     "output_type": "execute_result"
    },
    {
     "data": {
      "image/png": "[encoded data removed]",
      "text/plain": [
       "<Figure size 432x288 with 1 Axes>"
      ]
     },
     "metadata": {
      "needs_background": "light"
     },
     "output_type": "display_data"
    }
   ],
   "source": [
    "lc_train_e = lc_train[lc_train.sub_clase=='RRe']\n",
    "print(lc_train_e.shape)\n",
    "lc_train_e['PeriodLS'].hist()"
   ]
  },
  {
   "cell_type": "code",
   "execution_count": 89,
   "metadata": {},
   "outputs": [
    {
     "name": "stdout",
     "output_type": "stream",
     "text": [
      "SMC\n"
     ]
    },
    {
     "name": "stderr",
     "output_type": "stream",
     "text": [
      "/home/franciscoperez/anaconda3/lib/python3.7/site-packages/scipy/stats/stats.py:1713: FutureWarning: Using a non-tuple sequence for multidimensional indexing is deprecated; use `arr[tuple(seq)]` instead of `arr[seq]`. In the future this will be interpreted as an array index, `arr[np.array(seq)]`, which will result either in an error or a different result.\n",
      "  return np.add.reduce(sorted[indexer] * weights, axis=axis) / sumval\n"
     ]
    },
    {
     "name": "stdout",
     "output_type": "stream",
     "text": [
      "GD\n"
     ]
    },
    {
     "data": {
      "image/png": "[encoded data removed]",
      "text/plain": [
       "<Figure size 432x432 with 3 Axes>"
      ]
     },
     "metadata": {
      "needs_background": "light"
     },
     "output_type": "display_data"
    },
    {
     "data": {
      "image/png": "[encoded data removed]",
      "text/plain": [
       "<Figure size 432x432 with 3 Axes>"
      ]
     },
     "metadata": {
      "needs_background": "light"
     },
     "output_type": "display_data"
    }
   ],
   "source": [
    "#train_subclase[train_subclase.sub_clase=='RRab']['PeriodLS']\n",
    "\n",
    "\n",
    "rc={'axes.labelsize': 20, 'font.size': 20, 'legend.fontsize': 20.0, 'axes.titlesize': 20.0}\n",
    "plt.rcParams.update(**rc)\n",
    "\n",
    "lc_test = lc_test[lc_test['sub_clase']=='RRab']\n",
    "for f in [ 'SMC', 'GD']:\n",
    "    lc= lc_test[lc_test['Field']==f]\n",
    "    print(f)\n",
    "    h = sns.jointplot(x=lc['PeriodLS'], y=lc[\"Amplitude\"], kind='kde', xlim=(0,1), \n",
    "                      ylim =(0, 0.5), color='black', bw=.04, kernel='triw', \n",
    "                      alpha=1, n_levels=3, gridsize=100,\n",
    "                      shade_lowest=False, shade=True)\n",
    "    h.set_axis_labels('x', 'y')\n",
    "# or set labels via the axes objects\n",
    "    h.ax_joint.set_xlabel('Period')\n",
    "    h.ax_joint.set_ylabel('Amplitude')\n",
    "    # also possible to manipulate the histogram plots this way, e.g.\n",
    "    #h.ax_marg_y.grid('on') # with ugly consequences...\n",
    "    # labels appear outside of plot area, so auto-adjust\n",
    "    plt.tight_layout()\n",
    "    \n",
    "    "
   ]
  },
  {
   "cell_type": "code",
   "execution_count": 110,
   "metadata": {},
   "outputs": [
    {
     "name": "stdout",
     "output_type": "stream",
     "text": [
      "SMC\n"
     ]
    },
    {
     "name": "stderr",
     "output_type": "stream",
     "text": [
      "/home/franciscoperez/anaconda3/lib/python3.7/site-packages/scipy/stats/stats.py:1713: FutureWarning: Using a non-tuple sequence for multidimensional indexing is deprecated; use `arr[tuple(seq)]` instead of `arr[seq]`. In the future this will be interpreted as an array index, `arr[np.array(seq)]`, which will result either in an error or a different result.\n",
      "  return np.add.reduce(sorted[indexer] * weights, axis=axis) / sumval\n"
     ]
    },
    {
     "name": "stdout",
     "output_type": "stream",
     "text": [
      "GD\n"
     ]
    },
    {
     "data": {
      "image/png": "[encoded data removed]",
      "text/plain": [
       "<Figure size 432x432 with 3 Axes>"
      ]
     },
     "metadata": {
      "needs_background": "light"
     },
     "output_type": "display_data"
    },
    {
     "data": {
      "image/png": "[encoded data removed]",
      "text/plain": [
       "<Figure size 432x432 with 3 Axes>"
      ]
     },
     "metadata": {
      "needs_background": "light"
     },
     "output_type": "display_data"
    }
   ],
   "source": [
    "rc={'axes.labelsize': 20, 'font.size': 20, 'legend.fontsize': 20.0, 'axes.titlesize': 20.0}\n",
    "plt.rcParams.update(**rc)\n",
    "\n",
    "lc_test = lc_test[(lc_test['sub_clase']=='RRc') | (lc_test['sub_clase']=='RRd') | (lc_test['sub_clase']=='RRe')]\n",
    "for f in [ 'SMC', 'GD']:\n",
    "    lc= lc_test[lc_test['Field']==f]\n",
    "    print(f)\n",
    "    h = sns.jointplot(x=lc['PeriodLS'], y=lc[\"Amplitude\"], kind='kde', xlim=(0,1), \n",
    "                      ylim =(0, 0.5), color='black', bw=.04, kernel='triw', \n",
    "                      alpha=1, n_levels=3, gridsize=100,\n",
    "                      shade_lowest=False, shade=True)\n",
    "    h.set_axis_labels('x', 'y')\n",
    "# or set labels via the axes objects\n",
    "    h.ax_joint.set_xlabel('Period')\n",
    "    h.ax_joint.set_ylabel('Amplitude')\n",
    "    # also possible to manipulate the histogram plots this way, e.g.\n",
    "    #h.ax_marg_y.grid('on') # with ugly consequences...\n",
    "    # labels appear outside of plot area, so auto-adjust\n",
    "    plt.tight_layout()\n",
    "    \n",
    "    "
   ]
  },
  {
   "cell_type": "code",
   "execution_count": 28,
   "metadata": {},
   "outputs": [
    {
     "name": "stdout",
     "output_type": "stream",
     "text": [
      "SMC\n"
     ]
    },
    {
     "name": "stderr",
     "output_type": "stream",
     "text": [
      "/home/franciscoperez/anaconda3/lib/python3.7/site-packages/scipy/stats/stats.py:1713: FutureWarning: Using a non-tuple sequence for multidimensional indexing is deprecated; use `arr[tuple(seq)]` instead of `arr[seq]`. In the future this will be interpreted as an array index, `arr[np.array(seq)]`, which will result either in an error or a different result.\n",
      "  return np.add.reduce(sorted[indexer] * weights, axis=axis) / sumval\n"
     ]
    },
    {
     "name": "stdout",
     "output_type": "stream",
     "text": [
      "GD\n"
     ]
    },
    {
     "data": {
      "image/png": "[encoded data removed]",
      "text/plain": [
       "<Figure size 432x432 with 3 Axes>"
      ]
     },
     "metadata": {
      "needs_background": "light"
     },
     "output_type": "display_data"
    },
    {
     "data": {
      "image/png": "[encoded data removed]",
      "text/plain": [
       "<Figure size 432x432 with 3 Axes>"
      ]
     },
     "metadata": {
      "needs_background": "light"
     },
     "output_type": "display_data"
    }
   ],
   "source": [
    "rc={'axes.labelsize': 20, 'font.size': 20, 'legend.fontsize': 20.0, 'axes.titlesize': 20.0}\n",
    "plt.rcParams.update(**rc)\n",
    "\n",
    "lc_test_ = lc_test[(lc_test['sub_clase']=='RRd')]\n",
    "for f in [ 'SMC', 'GD']:\n",
    "    lc= lc_test_[lc_test_['Field']==f]\n",
    "    print(f)\n",
    "    h = sns.jointplot(x=lc['PeriodLS'], y=lc[\"Amplitude\"], kind='kde', xlim=(0,1), \n",
    "                      ylim =(0, 0.5), color='black', bw=.04, kernel='triw', \n",
    "                      alpha=1, n_levels=3, gridsize=100,\n",
    "                      shade_lowest=False, shade=True)\n",
    "    h.set_axis_labels('x', 'y')\n",
    "# or set labels via the axes objects\n",
    "    h.ax_joint.set_xlabel('Period')\n",
    "    h.ax_joint.set_ylabel('Amplitude')\n",
    "    # also possible to manipulate the histogram plots this way, e.g.\n",
    "    #h.ax_marg_y.grid('on') # with ugly consequences...\n",
    "    # labels appear outside of plot area, so auto-adjust\n",
    "    plt.tight_layout()\n",
    "    "
   ]
  },
  {
   "cell_type": "code",
   "execution_count": null,
   "metadata": {},
   "outputs": [],
   "source": []
  }
 ],
 "metadata": {
  "kernelspec": {
   "display_name": "Python 3",
   "language": "python",
   "name": "python3"
  },
  "language_info": {
   "codemirror_mode": {
    "name": "ipython",
    "version": 3
   },
   "file_extension": ".py",
   "mimetype": "text/x-python",
   "name": "python",
   "nbconvert_exporter": "python",
   "pygments_lexer": "ipython3",
   "version": "3.7.7"
  }
 },
 "nbformat": 4,
 "nbformat_minor": 4
}
